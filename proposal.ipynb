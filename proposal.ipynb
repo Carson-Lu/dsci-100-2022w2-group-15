{
 "cells": [
  {
   "cell_type": "markdown",
   "id": "b6614a25-6ccd-4cc4-a009-215322b37e00",
   "metadata": {},
   "source": [
    "# Predicting Knowledge Level of Students in Electrical DC Machines\n",
    "By: Carson, Manjot, Qiancheng, and Yichen"
   ]
  },
  {
   "cell_type": "markdown",
   "id": "e7111395-ed98-4910-bb3b-55944f96f2c9",
   "metadata": {},
   "source": [
    "# Introduction"
   ]
  },
  {
   "cell_type": "markdown",
   "id": "a6951cac-16ad-4656-b1a4-37a24ebafcb9",
   "metadata": {},
   "source": [
    "This project aims to analyze students' knowledge of Electrical DC Machines, which are crucial components of many electrical systems. The dataset is from a Ph.D. thesis on the UCI Machine Learning Repository titled \"User knowledge Modelling Data Set.\""
   ]
  },
  {
   "cell_type": "markdown",
   "id": "59369fe0-5b36-4459-8516-06b83bfbe79a",
   "metadata": {},
   "source": [
    "We want to answer the following question:\n",
    "\n",
    "**Can we predict the knowledge level of students in Electrical DC Machines given the factors listed below?**"
   ]
  },
  {
   "cell_type": "markdown",
   "id": "67ccfde3-deb4-4020-b564-c8a73fd4caa4",
   "metadata": {},
   "source": [
    "The columns in the dataset (taken mainly from the dataset description) are:\n",
    "<ol>\n",
    "    <li> STG: The degree of study time for goal object materials </li>\n",
    "    <li> SCG: The degree of repetition number of users for goal materials</li>\n",
    "    <li> STR: The degree of study time of users for related objects with goal object</li>\n",
    "    <li> LPR: The exam performance of users for related objects with goal object </li>\n",
    "    <li> PEG: The exam performance of users for goal objects</li>\n",
    "    <li> UNS: The knowledge level of users (with 4 values: *Very Low*, *Low*, *Middle*, and *High*)</li>\n",
    "</ol>\n",
    "\n",
    "**Note**: all numerical data is standardized, and \"goal object\" refers to the subject of Electrical DC Machines while \"related objects with goal object\" refer to the other subjects or topics that are related but not exactly the \"goal object\"."
   ]
  },
  {
   "cell_type": "markdown",
   "id": "3a2b6242-a2cc-4f1c-a939-cf880fe52376",
   "metadata": {},
   "source": [
    "# Preliminary exploratory data analysis"
   ]
  },
  {
   "cell_type": "code",
   "execution_count": 1,
   "id": "5e480403-5bec-4cbc-9341-1abd1083218d",
   "metadata": {},
   "outputs": [
    {
     "name": "stderr",
     "output_type": "stream",
     "text": [
      "── \u001b[1mAttaching packages\u001b[22m ─────────────────────────────────────── tidyverse 1.3.1 ──\n",
      "\n",
      "\u001b[32m✔\u001b[39m \u001b[34mggplot2\u001b[39m 3.3.6     \u001b[32m✔\u001b[39m \u001b[34mpurrr  \u001b[39m 0.3.4\n",
      "\u001b[32m✔\u001b[39m \u001b[34mtibble \u001b[39m 3.1.7     \u001b[32m✔\u001b[39m \u001b[34mdplyr  \u001b[39m 1.0.9\n",
      "\u001b[32m✔\u001b[39m \u001b[34mtidyr  \u001b[39m 1.2.0     \u001b[32m✔\u001b[39m \u001b[34mstringr\u001b[39m 1.4.0\n",
      "\u001b[32m✔\u001b[39m \u001b[34mreadr  \u001b[39m 2.1.2     \u001b[32m✔\u001b[39m \u001b[34mforcats\u001b[39m 0.5.1\n",
      "\n",
      "── \u001b[1mConflicts\u001b[22m ────────────────────────────────────────── tidyverse_conflicts() ──\n",
      "\u001b[31m✖\u001b[39m \u001b[34mdplyr\u001b[39m::\u001b[32mfilter()\u001b[39m masks \u001b[34mstats\u001b[39m::filter()\n",
      "\u001b[31m✖\u001b[39m \u001b[34mdplyr\u001b[39m::\u001b[32mlag()\u001b[39m    masks \u001b[34mstats\u001b[39m::lag()\n",
      "\n",
      "── \u001b[1mAttaching packages\u001b[22m ────────────────────────────────────── tidymodels 1.0.0 ──\n",
      "\n",
      "\u001b[32m✔\u001b[39m \u001b[34mbroom       \u001b[39m 1.0.0     \u001b[32m✔\u001b[39m \u001b[34mrsample     \u001b[39m 1.0.0\n",
      "\u001b[32m✔\u001b[39m \u001b[34mdials       \u001b[39m 1.0.0     \u001b[32m✔\u001b[39m \u001b[34mtune        \u001b[39m 1.0.0\n",
      "\u001b[32m✔\u001b[39m \u001b[34minfer       \u001b[39m 1.0.2     \u001b[32m✔\u001b[39m \u001b[34mworkflows   \u001b[39m 1.0.0\n",
      "\u001b[32m✔\u001b[39m \u001b[34mmodeldata   \u001b[39m 1.0.0     \u001b[32m✔\u001b[39m \u001b[34mworkflowsets\u001b[39m 1.0.0\n",
      "\u001b[32m✔\u001b[39m \u001b[34mparsnip     \u001b[39m 1.0.0     \u001b[32m✔\u001b[39m \u001b[34myardstick   \u001b[39m 1.0.0\n",
      "\u001b[32m✔\u001b[39m \u001b[34mrecipes     \u001b[39m 1.0.1     \n",
      "\n",
      "── \u001b[1mConflicts\u001b[22m ───────────────────────────────────────── tidymodels_conflicts() ──\n",
      "\u001b[31m✖\u001b[39m \u001b[34mscales\u001b[39m::\u001b[32mdiscard()\u001b[39m masks \u001b[34mpurrr\u001b[39m::discard()\n",
      "\u001b[31m✖\u001b[39m \u001b[34mdplyr\u001b[39m::\u001b[32mfilter()\u001b[39m   masks \u001b[34mstats\u001b[39m::filter()\n",
      "\u001b[31m✖\u001b[39m \u001b[34mrecipes\u001b[39m::\u001b[32mfixed()\u001b[39m  masks \u001b[34mstringr\u001b[39m::fixed()\n",
      "\u001b[31m✖\u001b[39m \u001b[34mdplyr\u001b[39m::\u001b[32mlag()\u001b[39m      masks \u001b[34mstats\u001b[39m::lag()\n",
      "\u001b[31m✖\u001b[39m \u001b[34myardstick\u001b[39m::\u001b[32mspec()\u001b[39m masks \u001b[34mreadr\u001b[39m::spec()\n",
      "\u001b[31m✖\u001b[39m \u001b[34mrecipes\u001b[39m::\u001b[32mstep()\u001b[39m   masks \u001b[34mstats\u001b[39m::step()\n",
      "\u001b[34m•\u001b[39m Use \u001b[32mtidymodels_prefer()\u001b[39m to resolve common conflicts.\n",
      "\n",
      "Registered S3 method overwritten by 'GGally':\n",
      "  method from   \n",
      "  +.gg   ggplot2\n",
      "\n",
      "Updating HTML index of packages in '.Library'\n",
      "\n",
      "Making 'packages.html' ...\n",
      " done\n",
      "\n"
     ]
    }
   ],
   "source": [
    "library(tidyverse)\n",
    "library(tidymodels)\n",
    "library(ggplot2)\n",
    "library(readxl)\n",
    "library(GGally)\n",
    "install.packages(\"themis\")\n",
    "library(themis)\n",
    "set.seed(1234)"
   ]
  },
  {
   "cell_type": "markdown",
   "id": "541b379f-6e06-4c98-9212-2995ea9db6eb",
   "metadata": {},
   "source": [
    "<h2> Loading the dataset into R </h2>"
   ]
  },
  {
   "cell_type": "code",
   "execution_count": 2,
   "id": "5c7ee6c2-ee1f-46ec-b502-42be636fbb2c",
   "metadata": {},
   "outputs": [
    {
     "name": "stderr",
     "output_type": "stream",
     "text": [
      "\u001b[1m\u001b[22mNew names:\n",
      "\u001b[36m•\u001b[39m `` -> `...7`\n",
      "\u001b[36m•\u001b[39m `` -> `...8`\n"
     ]
    },
    {
     "data": {
      "text/html": [
       "<table class=\"dataframe\">\n",
       "<caption>A tibble: 6 × 9</caption>\n",
       "<thead>\n",
       "\t<tr><th scope=col>STG</th><th scope=col>SCG</th><th scope=col>STR</th><th scope=col>LPR</th><th scope=col>PEG</th><th scope=col>UNS</th><th scope=col>...7</th><th scope=col>...8</th><th scope=col>Attribute Information:</th></tr>\n",
       "\t<tr><th scope=col>&lt;dbl&gt;</th><th scope=col>&lt;dbl&gt;</th><th scope=col>&lt;dbl&gt;</th><th scope=col>&lt;dbl&gt;</th><th scope=col>&lt;dbl&gt;</th><th scope=col>&lt;chr&gt;</th><th scope=col>&lt;lgl&gt;</th><th scope=col>&lt;lgl&gt;</th><th scope=col>&lt;chr&gt;</th></tr>\n",
       "</thead>\n",
       "<tbody>\n",
       "\t<tr><td>0.00</td><td>0.00</td><td>0.00</td><td>0.00</td><td>0.00</td><td>very_low</td><td>NA</td><td>NA</td><td>STG (The degree of study time for goal object materails),                  </td></tr>\n",
       "\t<tr><td>0.08</td><td>0.08</td><td>0.10</td><td>0.24</td><td>0.90</td><td>High    </td><td>NA</td><td>NA</td><td>SCG (The degree of repetition number of user for goal object materails)    </td></tr>\n",
       "\t<tr><td>0.06</td><td>0.06</td><td>0.05</td><td>0.25</td><td>0.33</td><td>Low     </td><td>NA</td><td>NA</td><td>STR (The degree of study time of user for related objects with goal object)</td></tr>\n",
       "\t<tr><td>0.10</td><td>0.10</td><td>0.15</td><td>0.65</td><td>0.30</td><td>Middle  </td><td>NA</td><td>NA</td><td>LPR (The exam performance of user for related objects with goal object)    </td></tr>\n",
       "\t<tr><td>0.08</td><td>0.08</td><td>0.08</td><td>0.98</td><td>0.24</td><td>Low     </td><td>NA</td><td>NA</td><td>PEG (The exam performance of user for goal objects)                        </td></tr>\n",
       "\t<tr><td>0.09</td><td>0.15</td><td>0.40</td><td>0.10</td><td>0.66</td><td>Middle  </td><td>NA</td><td>NA</td><td>UNS (The knowledge level of user)                                          </td></tr>\n",
       "</tbody>\n",
       "</table>\n"
      ],
      "text/latex": [
       "A tibble: 6 × 9\n",
       "\\begin{tabular}{lllllllll}\n",
       " STG & SCG & STR & LPR & PEG & UNS & ...7 & ...8 & Attribute Information:\\\\\n",
       " <dbl> & <dbl> & <dbl> & <dbl> & <dbl> & <chr> & <lgl> & <lgl> & <chr>\\\\\n",
       "\\hline\n",
       "\t 0.00 & 0.00 & 0.00 & 0.00 & 0.00 & very\\_low & NA & NA & STG (The degree of study time for goal object materails),                  \\\\\n",
       "\t 0.08 & 0.08 & 0.10 & 0.24 & 0.90 & High     & NA & NA & SCG (The degree of repetition number of user for goal object materails)    \\\\\n",
       "\t 0.06 & 0.06 & 0.05 & 0.25 & 0.33 & Low      & NA & NA & STR (The degree of study time of user for related objects with goal object)\\\\\n",
       "\t 0.10 & 0.10 & 0.15 & 0.65 & 0.30 & Middle   & NA & NA & LPR (The exam performance of user for related objects with goal object)    \\\\\n",
       "\t 0.08 & 0.08 & 0.08 & 0.98 & 0.24 & Low      & NA & NA & PEG (The exam performance of user for goal objects)                        \\\\\n",
       "\t 0.09 & 0.15 & 0.40 & 0.10 & 0.66 & Middle   & NA & NA & UNS (The knowledge level of user)                                          \\\\\n",
       "\\end{tabular}\n"
      ],
      "text/markdown": [
       "\n",
       "A tibble: 6 × 9\n",
       "\n",
       "| STG &lt;dbl&gt; | SCG &lt;dbl&gt; | STR &lt;dbl&gt; | LPR &lt;dbl&gt; | PEG &lt;dbl&gt; | UNS &lt;chr&gt; | ...7 &lt;lgl&gt; | ...8 &lt;lgl&gt; | Attribute Information: &lt;chr&gt; |\n",
       "|---|---|---|---|---|---|---|---|---|\n",
       "| 0.00 | 0.00 | 0.00 | 0.00 | 0.00 | very_low | NA | NA | STG (The degree of study time for goal object materails),                   |\n",
       "| 0.08 | 0.08 | 0.10 | 0.24 | 0.90 | High     | NA | NA | SCG (The degree of repetition number of user for goal object materails)     |\n",
       "| 0.06 | 0.06 | 0.05 | 0.25 | 0.33 | Low      | NA | NA | STR (The degree of study time of user for related objects with goal object) |\n",
       "| 0.10 | 0.10 | 0.15 | 0.65 | 0.30 | Middle   | NA | NA | LPR (The exam performance of user for related objects with goal object)     |\n",
       "| 0.08 | 0.08 | 0.08 | 0.98 | 0.24 | Low      | NA | NA | PEG (The exam performance of user for goal objects)                         |\n",
       "| 0.09 | 0.15 | 0.40 | 0.10 | 0.66 | Middle   | NA | NA | UNS (The knowledge level of user)                                           |\n",
       "\n"
      ],
      "text/plain": [
       "  STG  SCG  STR  LPR  PEG  UNS      ...7 ...8\n",
       "1 0.00 0.00 0.00 0.00 0.00 very_low NA   NA  \n",
       "2 0.08 0.08 0.10 0.24 0.90 High     NA   NA  \n",
       "3 0.06 0.06 0.05 0.25 0.33 Low      NA   NA  \n",
       "4 0.10 0.10 0.15 0.65 0.30 Middle   NA   NA  \n",
       "5 0.08 0.08 0.08 0.98 0.24 Low      NA   NA  \n",
       "6 0.09 0.15 0.40 0.10 0.66 Middle   NA   NA  \n",
       "  Attribute Information:                                                     \n",
       "1 STG (The degree of study time for goal object materails),                  \n",
       "2 SCG (The degree of repetition number of user for goal object materails)    \n",
       "3 STR (The degree of study time of user for related objects with goal object)\n",
       "4 LPR (The exam performance of user for related objects with goal object)    \n",
       "5 PEG (The exam performance of user for goal objects)                        \n",
       "6 UNS (The knowledge level of user)                                          "
      ]
     },
     "metadata": {},
     "output_type": "display_data"
    }
   ],
   "source": [
    "temp_file <- tempfile()\n",
    "download.file(\"https://archive.ics.uci.edu/ml/machine-learning-databases/00257/Data_User_Modeling_Dataset_Hamdi%20Tolga%20KAHRAMAN.xls\", temp_file)\n",
    "study_data <- read_excel(temp_file, sheet = 2)\n",
    "# study_data <- read_excel(\"https://archive.ics.uci.edu/ml/machine-learning-databases/00257/Data_User_Modeling_Dataset_Hamdi%20Tolga%20KAHRAMAN.xls\", sheet = 2)\n",
    "head(study_data)"
   ]
  },
  {
   "cell_type": "markdown",
   "id": "fb05ab73-68c6-4ea9-9048-6047bfb4df65",
   "metadata": {},
   "source": [
    "<h2> Cleaning and Wrangling </h2>"
   ]
  },
  {
   "cell_type": "code",
   "execution_count": 3,
   "id": "16e81ee2-0af6-4042-8286-d57b9e5e4f21",
   "metadata": {},
   "outputs": [
    {
     "data": {
      "text/html": [
       "<table class=\"dataframe\">\n",
       "<caption>A tibble: 6 × 6</caption>\n",
       "<thead>\n",
       "\t<tr><th scope=col>STG</th><th scope=col>SCG</th><th scope=col>STR</th><th scope=col>LPR</th><th scope=col>PEG</th><th scope=col>UNS</th></tr>\n",
       "\t<tr><th scope=col>&lt;dbl&gt;</th><th scope=col>&lt;dbl&gt;</th><th scope=col>&lt;dbl&gt;</th><th scope=col>&lt;dbl&gt;</th><th scope=col>&lt;dbl&gt;</th><th scope=col>&lt;chr&gt;</th></tr>\n",
       "</thead>\n",
       "<tbody>\n",
       "\t<tr><td>0.00</td><td>0.00</td><td>0.00</td><td>0.00</td><td>0.00</td><td>very_low</td></tr>\n",
       "\t<tr><td>0.08</td><td>0.08</td><td>0.10</td><td>0.24</td><td>0.90</td><td>High    </td></tr>\n",
       "\t<tr><td>0.06</td><td>0.06</td><td>0.05</td><td>0.25</td><td>0.33</td><td>Low     </td></tr>\n",
       "\t<tr><td>0.10</td><td>0.10</td><td>0.15</td><td>0.65</td><td>0.30</td><td>Middle  </td></tr>\n",
       "\t<tr><td>0.08</td><td>0.08</td><td>0.08</td><td>0.98</td><td>0.24</td><td>Low     </td></tr>\n",
       "\t<tr><td>0.09</td><td>0.15</td><td>0.40</td><td>0.10</td><td>0.66</td><td>Middle  </td></tr>\n",
       "</tbody>\n",
       "</table>\n"
      ],
      "text/latex": [
       "A tibble: 6 × 6\n",
       "\\begin{tabular}{llllll}\n",
       " STG & SCG & STR & LPR & PEG & UNS\\\\\n",
       " <dbl> & <dbl> & <dbl> & <dbl> & <dbl> & <chr>\\\\\n",
       "\\hline\n",
       "\t 0.00 & 0.00 & 0.00 & 0.00 & 0.00 & very\\_low\\\\\n",
       "\t 0.08 & 0.08 & 0.10 & 0.24 & 0.90 & High    \\\\\n",
       "\t 0.06 & 0.06 & 0.05 & 0.25 & 0.33 & Low     \\\\\n",
       "\t 0.10 & 0.10 & 0.15 & 0.65 & 0.30 & Middle  \\\\\n",
       "\t 0.08 & 0.08 & 0.08 & 0.98 & 0.24 & Low     \\\\\n",
       "\t 0.09 & 0.15 & 0.40 & 0.10 & 0.66 & Middle  \\\\\n",
       "\\end{tabular}\n"
      ],
      "text/markdown": [
       "\n",
       "A tibble: 6 × 6\n",
       "\n",
       "| STG &lt;dbl&gt; | SCG &lt;dbl&gt; | STR &lt;dbl&gt; | LPR &lt;dbl&gt; | PEG &lt;dbl&gt; | UNS &lt;chr&gt; |\n",
       "|---|---|---|---|---|---|\n",
       "| 0.00 | 0.00 | 0.00 | 0.00 | 0.00 | very_low |\n",
       "| 0.08 | 0.08 | 0.10 | 0.24 | 0.90 | High     |\n",
       "| 0.06 | 0.06 | 0.05 | 0.25 | 0.33 | Low      |\n",
       "| 0.10 | 0.10 | 0.15 | 0.65 | 0.30 | Middle   |\n",
       "| 0.08 | 0.08 | 0.08 | 0.98 | 0.24 | Low      |\n",
       "| 0.09 | 0.15 | 0.40 | 0.10 | 0.66 | Middle   |\n",
       "\n"
      ],
      "text/plain": [
       "  STG  SCG  STR  LPR  PEG  UNS     \n",
       "1 0.00 0.00 0.00 0.00 0.00 very_low\n",
       "2 0.08 0.08 0.10 0.24 0.90 High    \n",
       "3 0.06 0.06 0.05 0.25 0.33 Low     \n",
       "4 0.10 0.10 0.15 0.65 0.30 Middle  \n",
       "5 0.08 0.08 0.08 0.98 0.24 Low     \n",
       "6 0.09 0.15 0.40 0.10 0.66 Middle  "
      ]
     },
     "metadata": {},
     "output_type": "display_data"
    },
    {
     "data": {
      "text/html": [
       "258"
      ],
      "text/latex": [
       "258"
      ],
      "text/markdown": [
       "258"
      ],
      "text/plain": [
       "[1] 258"
      ]
     },
     "metadata": {},
     "output_type": "display_data"
    },
    {
     "data": {
      "text/html": [
       "<table class=\"dataframe\">\n",
       "<caption>A tibble: 6 × 6</caption>\n",
       "<thead>\n",
       "\t<tr><th scope=col>STG</th><th scope=col>SCG</th><th scope=col>STR</th><th scope=col>LPR</th><th scope=col>PEG</th><th scope=col>UNS</th></tr>\n",
       "\t<tr><th scope=col>&lt;dbl&gt;</th><th scope=col>&lt;dbl&gt;</th><th scope=col>&lt;dbl&gt;</th><th scope=col>&lt;dbl&gt;</th><th scope=col>&lt;dbl&gt;</th><th scope=col>&lt;chr&gt;</th></tr>\n",
       "</thead>\n",
       "<tbody>\n",
       "\t<tr><td>0.00</td><td>0.000</td><td>0.50</td><td>0.20</td><td>0.85</td><td>High    </td></tr>\n",
       "\t<tr><td>0.18</td><td>0.180</td><td>0.55</td><td>0.30</td><td>0.81</td><td>High    </td></tr>\n",
       "\t<tr><td>0.12</td><td>0.120</td><td>0.75</td><td>0.35</td><td>0.80</td><td>High    </td></tr>\n",
       "\t<tr><td>0.05</td><td>0.070</td><td>0.70</td><td>0.01</td><td>0.05</td><td>very_low</td></tr>\n",
       "\t<tr><td>0.09</td><td>0.300</td><td>0.68</td><td>0.18</td><td>0.85</td><td>High    </td></tr>\n",
       "\t<tr><td>0.08</td><td>0.325</td><td>0.62</td><td>0.94</td><td>0.56</td><td>High    </td></tr>\n",
       "</tbody>\n",
       "</table>\n"
      ],
      "text/latex": [
       "A tibble: 6 × 6\n",
       "\\begin{tabular}{llllll}\n",
       " STG & SCG & STR & LPR & PEG & UNS\\\\\n",
       " <dbl> & <dbl> & <dbl> & <dbl> & <dbl> & <chr>\\\\\n",
       "\\hline\n",
       "\t 0.00 & 0.000 & 0.50 & 0.20 & 0.85 & High    \\\\\n",
       "\t 0.18 & 0.180 & 0.55 & 0.30 & 0.81 & High    \\\\\n",
       "\t 0.12 & 0.120 & 0.75 & 0.35 & 0.80 & High    \\\\\n",
       "\t 0.05 & 0.070 & 0.70 & 0.01 & 0.05 & very\\_low\\\\\n",
       "\t 0.09 & 0.300 & 0.68 & 0.18 & 0.85 & High    \\\\\n",
       "\t 0.08 & 0.325 & 0.62 & 0.94 & 0.56 & High    \\\\\n",
       "\\end{tabular}\n"
      ],
      "text/markdown": [
       "\n",
       "A tibble: 6 × 6\n",
       "\n",
       "| STG &lt;dbl&gt; | SCG &lt;dbl&gt; | STR &lt;dbl&gt; | LPR &lt;dbl&gt; | PEG &lt;dbl&gt; | UNS &lt;chr&gt; |\n",
       "|---|---|---|---|---|---|\n",
       "| 0.00 | 0.000 | 0.50 | 0.20 | 0.85 | High     |\n",
       "| 0.18 | 0.180 | 0.55 | 0.30 | 0.81 | High     |\n",
       "| 0.12 | 0.120 | 0.75 | 0.35 | 0.80 | High     |\n",
       "| 0.05 | 0.070 | 0.70 | 0.01 | 0.05 | very_low |\n",
       "| 0.09 | 0.300 | 0.68 | 0.18 | 0.85 | High     |\n",
       "| 0.08 | 0.325 | 0.62 | 0.94 | 0.56 | High     |\n",
       "\n"
      ],
      "text/plain": [
       "  STG  SCG   STR  LPR  PEG  UNS     \n",
       "1 0.00 0.000 0.50 0.20 0.85 High    \n",
       "2 0.18 0.180 0.55 0.30 0.81 High    \n",
       "3 0.12 0.120 0.75 0.35 0.80 High    \n",
       "4 0.05 0.070 0.70 0.01 0.05 very_low\n",
       "5 0.09 0.300 0.68 0.18 0.85 High    \n",
       "6 0.08 0.325 0.62 0.94 0.56 High    "
      ]
     },
     "metadata": {},
     "output_type": "display_data"
    },
    {
     "data": {
      "text/html": [
       "<table class=\"dataframe\">\n",
       "<caption>A tibble: 6 × 6</caption>\n",
       "<thead>\n",
       "\t<tr><th scope=col>STG</th><th scope=col>SCG</th><th scope=col>STR</th><th scope=col>LPR</th><th scope=col>PEG</th><th scope=col>UNS</th></tr>\n",
       "\t<tr><th scope=col>&lt;dbl&gt;</th><th scope=col>&lt;dbl&gt;</th><th scope=col>&lt;dbl&gt;</th><th scope=col>&lt;dbl&gt;</th><th scope=col>&lt;dbl&gt;</th><th scope=col>&lt;chr&gt;</th></tr>\n",
       "</thead>\n",
       "<tbody>\n",
       "\t<tr><td>0.00</td><td>0.00</td><td>0.00</td><td>0.00</td><td>0.00</td><td>very_low</td></tr>\n",
       "\t<tr><td>0.08</td><td>0.08</td><td>0.10</td><td>0.24</td><td>0.90</td><td>High    </td></tr>\n",
       "\t<tr><td>0.20</td><td>0.14</td><td>0.35</td><td>0.72</td><td>0.25</td><td>Low     </td></tr>\n",
       "\t<tr><td>0.10</td><td>0.10</td><td>0.70</td><td>0.15</td><td>0.90</td><td>High    </td></tr>\n",
       "\t<tr><td>0.20</td><td>0.20</td><td>0.70</td><td>0.30</td><td>0.60</td><td>Middle  </td></tr>\n",
       "\t<tr><td>0.18</td><td>0.31</td><td>0.32</td><td>0.42</td><td>0.28</td><td>Low     </td></tr>\n",
       "</tbody>\n",
       "</table>\n"
      ],
      "text/latex": [
       "A tibble: 6 × 6\n",
       "\\begin{tabular}{llllll}\n",
       " STG & SCG & STR & LPR & PEG & UNS\\\\\n",
       " <dbl> & <dbl> & <dbl> & <dbl> & <dbl> & <chr>\\\\\n",
       "\\hline\n",
       "\t 0.00 & 0.00 & 0.00 & 0.00 & 0.00 & very\\_low\\\\\n",
       "\t 0.08 & 0.08 & 0.10 & 0.24 & 0.90 & High    \\\\\n",
       "\t 0.20 & 0.14 & 0.35 & 0.72 & 0.25 & Low     \\\\\n",
       "\t 0.10 & 0.10 & 0.70 & 0.15 & 0.90 & High    \\\\\n",
       "\t 0.20 & 0.20 & 0.70 & 0.30 & 0.60 & Middle  \\\\\n",
       "\t 0.18 & 0.31 & 0.32 & 0.42 & 0.28 & Low     \\\\\n",
       "\\end{tabular}\n"
      ],
      "text/markdown": [
       "\n",
       "A tibble: 6 × 6\n",
       "\n",
       "| STG &lt;dbl&gt; | SCG &lt;dbl&gt; | STR &lt;dbl&gt; | LPR &lt;dbl&gt; | PEG &lt;dbl&gt; | UNS &lt;chr&gt; |\n",
       "|---|---|---|---|---|---|\n",
       "| 0.00 | 0.00 | 0.00 | 0.00 | 0.00 | very_low |\n",
       "| 0.08 | 0.08 | 0.10 | 0.24 | 0.90 | High     |\n",
       "| 0.20 | 0.14 | 0.35 | 0.72 | 0.25 | Low      |\n",
       "| 0.10 | 0.10 | 0.70 | 0.15 | 0.90 | High     |\n",
       "| 0.20 | 0.20 | 0.70 | 0.30 | 0.60 | Middle   |\n",
       "| 0.18 | 0.31 | 0.32 | 0.42 | 0.28 | Low      |\n",
       "\n"
      ],
      "text/plain": [
       "  STG  SCG  STR  LPR  PEG  UNS     \n",
       "1 0.00 0.00 0.00 0.00 0.00 very_low\n",
       "2 0.08 0.08 0.10 0.24 0.90 High    \n",
       "3 0.20 0.14 0.35 0.72 0.25 Low     \n",
       "4 0.10 0.10 0.70 0.15 0.90 High    \n",
       "5 0.20 0.20 0.70 0.30 0.60 Middle  \n",
       "6 0.18 0.31 0.32 0.42 0.28 Low     "
      ]
     },
     "metadata": {},
     "output_type": "display_data"
    }
   ],
   "source": [
    "set.seed(1234)\n",
    "#Data is already in tidy format\n",
    "study_data_required <- study_data |> select(STG,SCG,STR,LPR,PEG,UNS) |> drop_na() # selecting all of the columsn and removing the columns with no values\n",
    "head(study_data_required) # Preview of the ENTIRE dataset\n",
    "\n",
    "#Summarizing\n",
    "nrow(study_data_required) # Number of rows\n",
    "data_split <- initial_split(study_data_required,prop = 0.75, strata = UNS) # Splitting our data 75% for training, 25% for testing\n",
    "data_training <- training(data_split)\n",
    "data_test <- testing(data_split)\n",
    "\n",
    "head(data_training) # Preview of Training data\n",
    "head(data_test) # Preview of Testing data"
   ]
  },
  {
   "cell_type": "markdown",
   "id": "e8ab3a18-9f1c-48ff-a3c8-897312cdad16",
   "metadata": {},
   "source": [
    "<h2> Summary of the Dataset (not using Training dataset)</h2>"
   ]
  },
  {
   "cell_type": "code",
   "execution_count": 4,
   "id": "cb3e903f-30d5-4e9a-b220-ee8b22f28f8b",
   "metadata": {},
   "outputs": [
    {
     "data": {
      "text/html": [
       "<table class=\"dataframe\">\n",
       "<caption>A tibble: 4 × 3</caption>\n",
       "<thead>\n",
       "\t<tr><th scope=col>UNS</th><th scope=col>count</th><th scope=col>percentage</th></tr>\n",
       "\t<tr><th scope=col>&lt;chr&gt;</th><th scope=col>&lt;int&gt;</th><th scope=col>&lt;dbl&gt;</th></tr>\n",
       "</thead>\n",
       "<tbody>\n",
       "\t<tr><td>High    </td><td>63</td><td>24.418605</td></tr>\n",
       "\t<tr><td>Low     </td><td>83</td><td>32.170543</td></tr>\n",
       "\t<tr><td>Middle  </td><td>88</td><td>34.108527</td></tr>\n",
       "\t<tr><td>very_low</td><td>24</td><td> 9.302326</td></tr>\n",
       "</tbody>\n",
       "</table>\n"
      ],
      "text/latex": [
       "A tibble: 4 × 3\n",
       "\\begin{tabular}{lll}\n",
       " UNS & count & percentage\\\\\n",
       " <chr> & <int> & <dbl>\\\\\n",
       "\\hline\n",
       "\t High     & 63 & 24.418605\\\\\n",
       "\t Low      & 83 & 32.170543\\\\\n",
       "\t Middle   & 88 & 34.108527\\\\\n",
       "\t very\\_low & 24 &  9.302326\\\\\n",
       "\\end{tabular}\n"
      ],
      "text/markdown": [
       "\n",
       "A tibble: 4 × 3\n",
       "\n",
       "| UNS &lt;chr&gt; | count &lt;int&gt; | percentage &lt;dbl&gt; |\n",
       "|---|---|---|\n",
       "| High     | 63 | 24.418605 |\n",
       "| Low      | 83 | 32.170543 |\n",
       "| Middle   | 88 | 34.108527 |\n",
       "| very_low | 24 |  9.302326 |\n",
       "\n"
      ],
      "text/plain": [
       "  UNS      count percentage\n",
       "1 High     63    24.418605 \n",
       "2 Low      83    32.170543 \n",
       "3 Middle   88    34.108527 \n",
       "4 very_low 24     9.302326 "
      ]
     },
     "metadata": {},
     "output_type": "display_data"
    }
   ],
   "source": [
    "num_obs <- nrow(study_data_required)\n",
    "\n",
    "data_summary <- study_data_required |>\n",
    "  group_by(UNS) |>\n",
    "  summarize(\n",
    "    count = n(),\n",
    "    percentage = (n()/num_obs) * 100\n",
    "  )\n",
    "\n",
    "data_summary # Gives preview of ALL the data we have"
   ]
  },
  {
   "cell_type": "markdown",
   "id": "274480f9-0833-41d8-975f-88d065d69b5e",
   "metadata": {},
   "source": [
    "Table 1: Total UNS counts"
   ]
  },
  {
   "cell_type": "markdown",
   "id": "b2188a6d-249e-4847-aab3-8bee82040ba0",
   "metadata": {},
   "source": [
    "<h2>Summary of the data using Training Data </h2>"
   ]
  },
  {
   "cell_type": "code",
   "execution_count": 5,
   "id": "9f692823-e417-48bd-826e-12d88eedf925",
   "metadata": {},
   "outputs": [
    {
     "data": {
      "text/html": [
       "<table class=\"dataframe\">\n",
       "<caption>A tibble: 4 × 8</caption>\n",
       "<thead>\n",
       "\t<tr><th scope=col>UNS</th><th scope=col>count</th><th scope=col>percentage</th><th scope=col>STG_mean</th><th scope=col>SCG_mean</th><th scope=col>STR_mean</th><th scope=col>LPR_mean</th><th scope=col>PEG_mean</th></tr>\n",
       "\t<tr><th scope=col>&lt;chr&gt;</th><th scope=col>&lt;int&gt;</th><th scope=col>&lt;dbl&gt;</th><th scope=col>&lt;dbl&gt;</th><th scope=col>&lt;dbl&gt;</th><th scope=col>&lt;dbl&gt;</th><th scope=col>&lt;dbl&gt;</th><th scope=col>&lt;dbl&gt;</th></tr>\n",
       "</thead>\n",
       "<tbody>\n",
       "\t<tr><td>High    </td><td>48</td><td>25.000000</td><td>0.4100000</td><td>0.4216875</td><td>0.4216875</td><td>0.4914583</td><td>0.7725000</td></tr>\n",
       "\t<tr><td>Low     </td><td>62</td><td>32.291667</td><td>0.3170806</td><td>0.3367097</td><td>0.3367097</td><td>0.4932258</td><td>0.2360161</td></tr>\n",
       "\t<tr><td>Middle  </td><td>68</td><td>35.416667</td><td>0.3883529</td><td>0.3709265</td><td>0.3709265</td><td>0.3310294</td><td>0.5470588</td></tr>\n",
       "\t<tr><td>very_low</td><td>14</td><td> 7.291667</td><td>0.3337857</td><td>0.2164286</td><td>0.2164286</td><td>0.3350000</td><td>0.1064286</td></tr>\n",
       "</tbody>\n",
       "</table>\n"
      ],
      "text/latex": [
       "A tibble: 4 × 8\n",
       "\\begin{tabular}{llllllll}\n",
       " UNS & count & percentage & STG\\_mean & SCG\\_mean & STR\\_mean & LPR\\_mean & PEG\\_mean\\\\\n",
       " <chr> & <int> & <dbl> & <dbl> & <dbl> & <dbl> & <dbl> & <dbl>\\\\\n",
       "\\hline\n",
       "\t High     & 48 & 25.000000 & 0.4100000 & 0.4216875 & 0.4216875 & 0.4914583 & 0.7725000\\\\\n",
       "\t Low      & 62 & 32.291667 & 0.3170806 & 0.3367097 & 0.3367097 & 0.4932258 & 0.2360161\\\\\n",
       "\t Middle   & 68 & 35.416667 & 0.3883529 & 0.3709265 & 0.3709265 & 0.3310294 & 0.5470588\\\\\n",
       "\t very\\_low & 14 &  7.291667 & 0.3337857 & 0.2164286 & 0.2164286 & 0.3350000 & 0.1064286\\\\\n",
       "\\end{tabular}\n"
      ],
      "text/markdown": [
       "\n",
       "A tibble: 4 × 8\n",
       "\n",
       "| UNS &lt;chr&gt; | count &lt;int&gt; | percentage &lt;dbl&gt; | STG_mean &lt;dbl&gt; | SCG_mean &lt;dbl&gt; | STR_mean &lt;dbl&gt; | LPR_mean &lt;dbl&gt; | PEG_mean &lt;dbl&gt; |\n",
       "|---|---|---|---|---|---|---|---|\n",
       "| High     | 48 | 25.000000 | 0.4100000 | 0.4216875 | 0.4216875 | 0.4914583 | 0.7725000 |\n",
       "| Low      | 62 | 32.291667 | 0.3170806 | 0.3367097 | 0.3367097 | 0.4932258 | 0.2360161 |\n",
       "| Middle   | 68 | 35.416667 | 0.3883529 | 0.3709265 | 0.3709265 | 0.3310294 | 0.5470588 |\n",
       "| very_low | 14 |  7.291667 | 0.3337857 | 0.2164286 | 0.2164286 | 0.3350000 | 0.1064286 |\n",
       "\n"
      ],
      "text/plain": [
       "  UNS      count percentage STG_mean  SCG_mean  STR_mean  LPR_mean  PEG_mean \n",
       "1 High     48    25.000000  0.4100000 0.4216875 0.4216875 0.4914583 0.7725000\n",
       "2 Low      62    32.291667  0.3170806 0.3367097 0.3367097 0.4932258 0.2360161\n",
       "3 Middle   68    35.416667  0.3883529 0.3709265 0.3709265 0.3310294 0.5470588\n",
       "4 very_low 14     7.291667  0.3337857 0.2164286 0.2164286 0.3350000 0.1064286"
      ]
     },
     "metadata": {},
     "output_type": "display_data"
    }
   ],
   "source": [
    "num_observation <- nrow(data_training)\n",
    "\n",
    "data_summary_train <- data_training |>\n",
    "  group_by(UNS) |>\n",
    "  summarize(\n",
    "    count = n(),\n",
    "       percentage = (n()/num_observation) * 100,\n",
    "       STG_mean = mean(STG, na.rm = TRUE),\n",
    "       SCG_mean = mean(SCG, na.rm = TRUE),\n",
    "       STR_mean = mean(SCG, na.rm = TRUE),\n",
    "       LPR_mean = mean(LPR, na.rm = TRUE),\n",
    "       PEG_mean = mean(PEG, na.rm = TRUE))\n",
    "\n",
    "data_summary_train"
   ]
  },
  {
   "cell_type": "markdown",
   "id": "78b4d3c6-fa06-4f18-b00b-c8847171853a",
   "metadata": {},
   "source": [
    "Table 2: Total UNS counts with averages"
   ]
  },
  {
   "cell_type": "code",
   "execution_count": 6,
   "id": "f1f7fbb9-e56a-482c-9cdc-9a4449074d16",
   "metadata": {},
   "outputs": [],
   "source": [
    "# Wrangling the data, removing count and percentage and turning the columns into rows\n",
    "data_mean <- data_summary_train |>\n",
    "    select(-count, -percentage) |>\n",
    "    pivot_longer(cols = c(STG_mean, SCG_mean, STR_mean, LPR_mean, PEG_mean),\n",
    "                 names_to = \"score\", # temporary name for both exam score and study habit score\n",
    "                 values_to = \"mean\") |>\n",
    "    mutate(UNS = factor(UNS, levels = c(\"very_low\", \"Low\", \"Middle\", \"High\"))) |>\n",
    "    arrange(UNS)"
   ]
  },
  {
   "cell_type": "code",
   "execution_count": 7,
   "id": "fcfc4a28-ce5b-4066-9822-5e117091d759",
   "metadata": {},
   "outputs": [],
   "source": [
    "# Code for study habits vs. Knowledge level plot\n",
    "study_habit_means <- data_mean |>\n",
    "    filter(score != 'LPR_mean' & score != 'PEG_mean') |>\n",
    "    rename(study_habit = score)\n",
    "\n",
    "study_habits_means_vs_knowledge_plot <- ggplot(study_habit_means, aes(x = UNS, y = mean, fill = study_habit)) +\n",
    "    geom_bar(stat = \"identity\", position = \"dodge\") +\n",
    "    facet_grid(cols = vars(study_habit)) +  \n",
    "    labs(x = \"Knowledge Level of User\", y = \"Study Habits\", fill = \"Study Habit\") +\n",
    "    ggtitle(\"Study Habits vs Knowledge Level of User\")"
   ]
  },
  {
   "cell_type": "code",
   "execution_count": 8,
   "id": "648ca527-f2fd-4a0e-8a93-1ff515c723d2",
   "metadata": {},
   "outputs": [],
   "source": [
    "# Code for exam performance vs. Knowledge level plot\n",
    "exam_performance_means <- data_mean |>\n",
    "    filter(score == 'LPR_mean' | score == 'PEG_mean') |>\n",
    "    rename(exam_performance = score)\n",
    "\n",
    "exam_performance_means_vs_knowledge_plot <- ggplot(exam_performance_means, aes(x = UNS, y = mean, fill = exam_performance)) +\n",
    "    geom_bar(stat = \"identity\", position = \"dodge\") +\n",
    "    facet_grid(cols = vars(exam_performance)) +  \n",
    "    labs(x = \"Knowledge Level of User\", y = \"Exam Performance\", fill = \"Exam Performance\") +\n",
    "    ggtitle(\"Exam Performance vs Knowledge Level of User\")"
   ]
  },
  {
   "cell_type": "code",
   "execution_count": 9,
   "id": "75c60048-f107-47bf-ad99-2ee43b8a44b8",
   "metadata": {},
   "outputs": [],
   "source": [
    "# Plots\n",
    "options(repr.plot.width = 20, repr.plot.height = 9)"
   ]
  },
  {
   "cell_type": "code",
   "execution_count": 10,
   "id": "2c246fac-ae25-4341-834b-def8b3c08933",
   "metadata": {},
   "outputs": [
    {
     "data": {
      "image/png": "[encoded data removed]",
      "text/plain": [
       "plot without title"
      ]
     },
     "metadata": {
      "image/png": {
       "height": 540,
       "width": 1200
      }
     },
     "output_type": "display_data"
    }
   ],
   "source": [
    "study_habits_means_vs_knowledge_plot"
   ]
  },
  {
   "cell_type": "markdown",
   "id": "622921ad-0e5b-4dd8-aeda-499c6f3a7e4e",
   "metadata": {},
   "source": [
    "Figure 1: Study Habits vs Knowledge of Level of User"
   ]
  },
  {
   "cell_type": "markdown",
   "id": "6deb414b-661c-4d51-a478-6e91337b45ea",
   "metadata": {},
   "source": [
    "#### Interpretation of Figure 1\n",
    "We can see that SCG and STR are positively correlated with study habits, that is that the higher the study habit results in higher level of knowledge. However, for STG, we can see that very low knowledge actually has a higher study habits."
   ]
  },
  {
   "cell_type": "code",
   "execution_count": 11,
   "id": "28cf2320-3943-4f26-b700-df922b6c5fe9",
   "metadata": {},
   "outputs": [
    {
     "data": {
      "image/png": "[encoded data removed]",
      "text/plain": [
       "plot without title"
      ]
     },
     "metadata": {
      "image/png": {
       "height": 540,
       "width": 1200
      }
     },
     "output_type": "display_data"
    }
   ],
   "source": [
    "exam_performance_means_vs_knowledge_plot"
   ]
  },
  {
   "cell_type": "markdown",
   "id": "388ded60-3caa-4a4e-9575-9316226442c7",
   "metadata": {},
   "source": [
    "Figure 2: Exam performance vs Knowledge Level of user"
   ]
  },
  {
   "cell_type": "markdown",
   "id": "dd9e9af1-4040-45a0-95de-14119b4af228",
   "metadata": {},
   "source": [
    "#### Interpretation of Figure 1\n",
    "Notice that PEG is strongly positively correlated with knowledge level while LPR is not, this means that, when using these for predictors, LPR would not be a good one as if we had a high exam performance score, we would not have a good estimate of whether or not a user has a Low/High knowledge level while with PEG we can easily predict this."
   ]
  },
  {
   "cell_type": "markdown",
   "id": "6f2ad56a-5278-4fb1-9c65-597399600168",
   "metadata": {},
   "source": [
    "<h2>Data Analysis </h2>"
   ]
  },
  {
   "cell_type": "code",
   "execution_count": 12,
   "id": "ca848eaf-cdca-4322-b428-b2eab5e8de8b",
   "metadata": {},
   "outputs": [
    {
     "data": {
      "text/html": [
       "<table class=\"dataframe\">\n",
       "<caption>A tibble: 4 × 2</caption>\n",
       "<thead>\n",
       "\t<tr><th scope=col>UNS</th><th scope=col>n</th></tr>\n",
       "\t<tr><th scope=col>&lt;fct&gt;</th><th scope=col>&lt;int&gt;</th></tr>\n",
       "</thead>\n",
       "<tbody>\n",
       "\t<tr><td>High    </td><td>68</td></tr>\n",
       "\t<tr><td>very_low</td><td>68</td></tr>\n",
       "\t<tr><td>Low     </td><td>68</td></tr>\n",
       "\t<tr><td>Middle  </td><td>68</td></tr>\n",
       "</tbody>\n",
       "</table>\n"
      ],
      "text/latex": [
       "A tibble: 4 × 2\n",
       "\\begin{tabular}{ll}\n",
       " UNS & n\\\\\n",
       " <fct> & <int>\\\\\n",
       "\\hline\n",
       "\t High     & 68\\\\\n",
       "\t very\\_low & 68\\\\\n",
       "\t Low      & 68\\\\\n",
       "\t Middle   & 68\\\\\n",
       "\\end{tabular}\n"
      ],
      "text/markdown": [
       "\n",
       "A tibble: 4 × 2\n",
       "\n",
       "| UNS &lt;fct&gt; | n &lt;int&gt; |\n",
       "|---|---|\n",
       "| High     | 68 |\n",
       "| very_low | 68 |\n",
       "| Low      | 68 |\n",
       "| Middle   | 68 |\n",
       "\n"
      ],
      "text/plain": [
       "  UNS      n \n",
       "1 High     68\n",
       "2 very_low 68\n",
       "3 Low      68\n",
       "4 Middle   68"
      ]
     },
     "metadata": {},
     "output_type": "display_data"
    }
   ],
   "source": [
    "set.seed(1234)\n",
    "\n",
    "data_training <- data_training |> \n",
    "    mutate(UNS = as_factor(UNS))\n",
    "\n",
    "# Start by balancing our data since we saw earlier that it is not very balanced\n",
    "upsampled_data_training <- recipe(UNS ~ SCG + STR + PEG, data = data_training) |>\n",
    "    step_upsample(UNS, over_ratio = 1, skip = FALSE) |>\n",
    "    prep() |>\n",
    "    bake(data_training)\n",
    "\n",
    "upsampled_data_training_count <- upsampled_data_training |>\n",
    "    group_by(UNS) |>\n",
    "    summarize(n = n())\n",
    "upsampled_data_training_count"
   ]
  },
  {
   "cell_type": "markdown",
   "id": "a62bfef3-fc0a-4459-a20a-e4e676958b46",
   "metadata": {},
   "source": [
    "Table 3: Balanced training data"
   ]
  },
  {
   "cell_type": "code",
   "execution_count": 13,
   "id": "a4e65720-4d9e-4cf9-9ecd-c20f5b2dff87",
   "metadata": {},
   "outputs": [],
   "source": [
    "# Fixing testing data for later\n",
    "# Only selecting the columns we are predicting\n",
    "data_test <- data_test |>\n",
    "    select(UNS, SCG, STR, PEG) |>\n",
    "    mutate(UNS = as_factor(UNS))\n",
    "\n",
    "# Making sure testing and training data has the proper levels\n",
    "uns_factors <- c(\"very_low\", \"Low\", \"Middle\", \"High\")\n",
    "data_test$UNS <- factor(data_test$UNS, levels = uns_factors)\n",
    "upsampled_data_training$UNS <- factor(upsampled_data_training$UNS, levels = uns_factors)"
   ]
  },
  {
   "cell_type": "code",
   "execution_count": 14,
   "id": "13529843-ce8c-4e97-aeb6-825950eeebc3",
   "metadata": {},
   "outputs": [
    {
     "data": {
      "image/png": "[encoded data removed]",
      "text/plain": [
       "plot without title"
      ]
     },
     "metadata": {
      "image/png": {
       "height": 540,
       "width": 1200
      }
     },
     "output_type": "display_data"
    }
   ],
   "source": [
    "set.seed(1234)\n",
    "\n",
    "# Performing 10 fold cross validation and testing neighbors with values 1 through 50\n",
    "vfold <- vfold_cv(upsampled_data_training, v = 10, strata = UNS)\n",
    "gridvals = tibble(neighbors = seq(1:50))\n",
    "\n",
    "# knn recipe\n",
    "knn_recipe <- recipe(UNS ~ SCG + STR + PEG, data = upsampled_data_training) |>\n",
    "  step_scale(all_predictors()) |>\n",
    "  step_center(all_predictors())\n",
    "\n",
    "# knn spec\n",
    "knn_spec <- nearest_neighbor(weight_func = \"rectangular\", neighbors = tune()) |>\n",
    "  set_engine(\"kknn\") |>\n",
    "  set_mode(\"classification\")\n",
    "\n",
    "# knn results\n",
    "knn_results <- workflow() |>\n",
    "    add_recipe(knn_recipe) |>\n",
    "    add_model(knn_spec) |>\n",
    "    tune_grid(resamples = vfold, grid = gridvals) |>\n",
    "    collect_metrics() |>\n",
    "    filter(.metric == \"accuracy\")\n",
    "\n",
    "# Plotting knn to see best k value\n",
    "cross_val_plot <- knn_results |> \n",
    "    ggplot(aes(x = neighbors, y = mean)) +\n",
    "    geom_point() +\n",
    "    geom_line() +\n",
    "    labs(x = \"Neighbors\", y = \"Accuracy Estimate\") +\n",
    "    theme(text = element_text(size = 20))+\n",
    "    scale_x_continuous(breaks = seq(0, 50, by = 1)) +\n",
    "    ggtitle(\"Accuracy Estimate vs Neighbors\")\n",
    "cross_val_plot"
   ]
  },
  {
   "cell_type": "markdown",
   "id": "66470520-8995-4938-b188-132054ab1d3d",
   "metadata": {},
   "source": [
    "Figure 3: KNN values"
   ]
  },
  {
   "cell_type": "code",
   "execution_count": 19,
   "id": "5f8439b1-d09e-4493-9f1d-042b08f9e0c9",
   "metadata": {},
   "outputs": [
    {
     "data": {
      "text/html": [
       "<table class=\"dataframe\">\n",
       "<caption>A tibble: 1 × 1</caption>\n",
       "<thead>\n",
       "\t<tr><th scope=col>neighbors</th></tr>\n",
       "\t<tr><th scope=col>&lt;int&gt;</th></tr>\n",
       "</thead>\n",
       "<tbody>\n",
       "\t<tr><td>1</td></tr>\n",
       "</tbody>\n",
       "</table>\n"
      ],
      "text/latex": [
       "A tibble: 1 × 1\n",
       "\\begin{tabular}{l}\n",
       " neighbors\\\\\n",
       " <int>\\\\\n",
       "\\hline\n",
       "\t 1\\\\\n",
       "\\end{tabular}\n"
      ],
      "text/markdown": [
       "\n",
       "A tibble: 1 × 1\n",
       "\n",
       "| neighbors &lt;int&gt; |\n",
       "|---|\n",
       "| 1 |\n",
       "\n"
      ],
      "text/plain": [
       "  neighbors\n",
       "1 1        "
      ]
     },
     "metadata": {},
     "output_type": "display_data"
    }
   ],
   "source": [
    "# Obtaining the k value that gives us the best accuracy\n",
    "min_k_value <- knn_results |>\n",
    "    slice(which.max(mean)) |>\n",
    "    select(neighbors)\n",
    "min_k_value\n",
    "\n",
    "knn_best_spec <- nearest_neighbor(weight_func = \"rectangular\", neighbors = min_k_value) |>\n",
    "  set_engine(\"kknn\") |>\n",
    "  set_mode(\"classification\")\n",
    "\n",
    "knn_fit <- workflow() |>\n",
    "  add_recipe(knn_recipe) |>\n",
    "  add_model(knn_best_spec) |>\n",
    "  fit(data = upsampled_data_training)"
   ]
  },
  {
   "cell_type": "code",
   "execution_count": 20,
   "id": "2506f444-3cdd-4c9e-b17f-031a43fe3439",
   "metadata": {},
   "outputs": [
    {
     "data": {
      "text/html": [
       "<table class=\"dataframe\">\n",
       "<caption>A tibble: 1 × 2</caption>\n",
       "<thead>\n",
       "\t<tr><th scope=col>.metric</th><th scope=col>.estimate</th></tr>\n",
       "\t<tr><th scope=col>&lt;chr&gt;</th><th scope=col>&lt;dbl&gt;</th></tr>\n",
       "</thead>\n",
       "<tbody>\n",
       "\t<tr><td>accuracy</td><td>0.6666667</td></tr>\n",
       "</tbody>\n",
       "</table>\n"
      ],
      "text/latex": [
       "A tibble: 1 × 2\n",
       "\\begin{tabular}{ll}\n",
       " .metric & .estimate\\\\\n",
       " <chr> & <dbl>\\\\\n",
       "\\hline\n",
       "\t accuracy & 0.6666667\\\\\n",
       "\\end{tabular}\n"
      ],
      "text/markdown": [
       "\n",
       "A tibble: 1 × 2\n",
       "\n",
       "| .metric &lt;chr&gt; | .estimate &lt;dbl&gt; |\n",
       "|---|---|\n",
       "| accuracy | 0.6666667 |\n",
       "\n"
      ],
      "text/plain": [
       "  .metric  .estimate\n",
       "1 accuracy 0.6666667"
      ]
     },
     "metadata": {},
     "output_type": "display_data"
    },
    {
     "data": {
      "text/plain": [
       "          Truth\n",
       "Prediction very_low Low Middle High\n",
       "  very_low        7   3      0    0\n",
       "  Low             3  14      3    0\n",
       "  Middle          0   4     16    8\n",
       "  High            0   0      1    7"
      ]
     },
     "metadata": {},
     "output_type": "display_data"
    }
   ],
   "source": [
    "# Predicting\n",
    "knn_predictions <- predict(knn_fit, data_test) |> \n",
    "    bind_cols(data_test)\n",
    "\n",
    "# Calculating accuracy\n",
    "knn_acc <- knn_predictions |> \n",
    "    metrics(truth = UNS, estimate = .pred_class) |> \n",
    "    select(.metric, .estimate) |> \n",
    "    head(1)\n",
    "knn_acc\n",
    "\n",
    "knn_conf_mat <- knn_predictions |> \n",
    "    conf_mat(truth = UNS, estimate = .pred_class)\n",
    "knn_conf_mat"
   ]
  },
  {
   "cell_type": "markdown",
   "id": "a9e7c188-6c45-480f-8fe0-68493c924f55",
   "metadata": {},
   "source": [
    "# Methods"
   ]
  },
  {
   "cell_type": "markdown",
   "id": "7820ca8e-e80e-47a1-97b6-3d33603583e5",
   "metadata": {},
   "source": [
    "We will conduct our data analysis by investigating the following columns: we will be using SCG, STR, and PEG (meanings were discussed above) since these show a relationship between them and UNS, specifically that the higher average values often resulted in a high level of knowledge (shown in the visualization above). Bar plots were used to compare UNS with each study habit because this is a simple way to \n",
    "\n",
    "We will use the classification by the k-nearest neighbor method, evaluating and tuning the classifier to predict UNS based on our 3 predictor columns.\n",
    "\n",
    "We will visualize the results by plotting each of the study habits used in our classifier (SCG and STR) against PEG and then coloring by UNS to help identify patterns of UNS and where they occur with respect to these predictors."
   ]
  },
  {
   "cell_type": "markdown",
   "id": "0565c84d-4b62-4e07-a9fc-d2cb4ed66003",
   "metadata": {},
   "source": [
    "# Expected outcomes and significance"
   ]
  },
  {
   "cell_type": "markdown",
   "id": "b37d5dce-4868-4bc4-93fa-70a0e1f6aecc",
   "metadata": {
    "tags": []
   },
   "source": [
    "### What do you expect to find?\n",
    "\n",
    "From the above plot and summary analysis, we can loosely infer that the knowledge level of the user is highly dependent on the time allotted for the study, repetitions of the material, study time for the particular topic, and exam performance for goal objects. We expect that users with study habits and exam performance on the main subject of study, which was on the higher scale, might fall on a high knowledge level, while students' lower values resulted in low levels of knowledge."
   ]
  },
  {
   "cell_type": "markdown",
   "id": "08eb4854-9c8e-4442-9b2a-4879ecae5eb3",
   "metadata": {},
   "source": [
    "### What impact could such findings have?"
   ]
  },
  {
   "cell_type": "markdown",
   "id": "488c0a7e-3efe-448d-a733-a93dcacfd50c",
   "metadata": {},
   "source": [
    "The findings of this analysis could help to identify knowledge gaps among students in Electrical DC Machines. By analyzing the relationship between study habits, exam performance, and knowledge level, educators and trainers can identify which specific areas of Electrical DC Machines cause the most difficulties for students. With this information, they can develop targeted strategies to address these knowledge gaps and improve overall learning outcomes."
   ]
  },
  {
   "cell_type": "markdown",
   "id": "4b6d4b2b-d0e5-4681-8192-f74d71cdcad9",
   "metadata": {},
   "source": [
    "<h3>What future questions could this lead to? </h3>"
   ]
  },
  {
   "cell_type": "markdown",
   "id": "fab5ed41-776c-487d-a9a0-a209e2a57afa",
   "metadata": {},
   "source": [
    "- How can educators use this information to design more effective learning strategies for individual students?\n",
    "\n",
    "- Are there other factors, such as student motivation or learning style, that also play a significant role in predicting user knowledge level? \n",
    "\n",
    "- What can be the potential further effects of knowledge level?"
   ]
  }
 ],
 "metadata": {
  "kernelspec": {
   "display_name": "R",
   "language": "R",
   "name": "ir"
  },
  "language_info": {
   "codemirror_mode": "r",
   "file_extension": ".r",
   "mimetype": "text/x-r-source",
   "name": "R",
   "pygments_lexer": "r",
   "version": "4.1.3"
  }
 },
 "nbformat": 4,
 "nbformat_minor": 5
}
