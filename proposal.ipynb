{
 "cells": [
  {
   "cell_type": "markdown",
   "id": "b6614a25-6ccd-4cc4-a009-215322b37e00",
   "metadata": {},
   "source": [
    "# Predicting Knowledge Level of Students in Electrical DC Machines"
   ]
  },
  {
   "cell_type": "markdown",
   "id": "e7111395-ed98-4910-bb3b-55944f96f2c9",
   "metadata": {},
   "source": [
    "# Introduction"
   ]
  },
  {
   "cell_type": "markdown",
   "id": "a6951cac-16ad-4656-b1a4-37a24ebafcb9",
   "metadata": {},
   "source": [
    "Electrical DC Machines are essential components of many electrical systems, and students learning about this subject must have a good understanding of it. In this project, we aim to analyze the student's knowledge status about the subject of Electrical DC Machines. The dataset used in this project is obtained from a Ph.D. thesis. and the dataset was obtained from the UCI Machine Learning Repository titled \"User knowledge Modelling Data Set\"."
   ]
  },
  {
   "cell_type": "markdown",
   "id": "59369fe0-5b36-4459-8516-06b83bfbe79a",
   "metadata": {},
   "source": [
    "We want to answer the following question:\n",
    "\n",
    "**Can we predict the knowledge level of students in Electrical DC Machines based on their study habits and performance on related exams?**"
   ]
  },
  {
   "cell_type": "markdown",
   "id": "14d77a16-4da3-4c03-b8d2-f27fc83b3efe",
   "metadata": {},
   "source": [
    "This dataset contains information on students knowledge status about Electrical DC Machines, including their study time for goal object materials (STG), degree of repetition number of user for goal object materials (SCG), degree of study time of user for related objects with goal object (STR), exam performance of user for related objects with goal object (LPR), exam performance of user for goal objects (PEG), and knowledge level of the user (UNS). The UNS column is the target variable, with four possible values: Very Low, Low, Middle, and High."
   ]
  },
  {
   "cell_type": "markdown",
   "id": "3a2b6242-a2cc-4f1c-a939-cf880fe52376",
   "metadata": {},
   "source": [
    "# Preliminary exploratory data analysis"
   ]
  },
  {
   "cell_type": "code",
   "execution_count": 1,
   "id": "5e480403-5bec-4cbc-9341-1abd1083218d",
   "metadata": {},
   "outputs": [
    {
     "name": "stderr",
     "output_type": "stream",
     "text": [
      "── \u001b[1mAttaching packages\u001b[22m ─────────────────────────────────────── tidyverse 1.3.1 ──\n",
      "\n",
      "\u001b[32m✔\u001b[39m \u001b[34mggplot2\u001b[39m 3.3.6     \u001b[32m✔\u001b[39m \u001b[34mpurrr  \u001b[39m 0.3.4\n",
      "\u001b[32m✔\u001b[39m \u001b[34mtibble \u001b[39m 3.1.7     \u001b[32m✔\u001b[39m \u001b[34mdplyr  \u001b[39m 1.0.9\n",
      "\u001b[32m✔\u001b[39m \u001b[34mtidyr  \u001b[39m 1.2.0     \u001b[32m✔\u001b[39m \u001b[34mstringr\u001b[39m 1.4.0\n",
      "\u001b[32m✔\u001b[39m \u001b[34mreadr  \u001b[39m 2.1.2     \u001b[32m✔\u001b[39m \u001b[34mforcats\u001b[39m 0.5.1\n",
      "\n",
      "── \u001b[1mConflicts\u001b[22m ────────────────────────────────────────── tidyverse_conflicts() ──\n",
      "\u001b[31m✖\u001b[39m \u001b[34mdplyr\u001b[39m::\u001b[32mfilter()\u001b[39m masks \u001b[34mstats\u001b[39m::filter()\n",
      "\u001b[31m✖\u001b[39m \u001b[34mdplyr\u001b[39m::\u001b[32mlag()\u001b[39m    masks \u001b[34mstats\u001b[39m::lag()\n",
      "\n",
      "── \u001b[1mAttaching packages\u001b[22m ────────────────────────────────────── tidymodels 1.0.0 ──\n",
      "\n",
      "\u001b[32m✔\u001b[39m \u001b[34mbroom       \u001b[39m 1.0.0     \u001b[32m✔\u001b[39m \u001b[34mrsample     \u001b[39m 1.0.0\n",
      "\u001b[32m✔\u001b[39m \u001b[34mdials       \u001b[39m 1.0.0     \u001b[32m✔\u001b[39m \u001b[34mtune        \u001b[39m 1.0.0\n",
      "\u001b[32m✔\u001b[39m \u001b[34minfer       \u001b[39m 1.0.2     \u001b[32m✔\u001b[39m \u001b[34mworkflows   \u001b[39m 1.0.0\n",
      "\u001b[32m✔\u001b[39m \u001b[34mmodeldata   \u001b[39m 1.0.0     \u001b[32m✔\u001b[39m \u001b[34mworkflowsets\u001b[39m 1.0.0\n",
      "\u001b[32m✔\u001b[39m \u001b[34mparsnip     \u001b[39m 1.0.0     \u001b[32m✔\u001b[39m \u001b[34myardstick   \u001b[39m 1.0.0\n",
      "\u001b[32m✔\u001b[39m \u001b[34mrecipes     \u001b[39m 1.0.1     \n",
      "\n",
      "── \u001b[1mConflicts\u001b[22m ───────────────────────────────────────── tidymodels_conflicts() ──\n",
      "\u001b[31m✖\u001b[39m \u001b[34mscales\u001b[39m::\u001b[32mdiscard()\u001b[39m masks \u001b[34mpurrr\u001b[39m::discard()\n",
      "\u001b[31m✖\u001b[39m \u001b[34mdplyr\u001b[39m::\u001b[32mfilter()\u001b[39m   masks \u001b[34mstats\u001b[39m::filter()\n",
      "\u001b[31m✖\u001b[39m \u001b[34mrecipes\u001b[39m::\u001b[32mfixed()\u001b[39m  masks \u001b[34mstringr\u001b[39m::fixed()\n",
      "\u001b[31m✖\u001b[39m \u001b[34mdplyr\u001b[39m::\u001b[32mlag()\u001b[39m      masks \u001b[34mstats\u001b[39m::lag()\n",
      "\u001b[31m✖\u001b[39m \u001b[34myardstick\u001b[39m::\u001b[32mspec()\u001b[39m masks \u001b[34mreadr\u001b[39m::spec()\n",
      "\u001b[31m✖\u001b[39m \u001b[34mrecipes\u001b[39m::\u001b[32mstep()\u001b[39m   masks \u001b[34mstats\u001b[39m::step()\n",
      "\u001b[34m•\u001b[39m Learn how to get started at \u001b[32mhttps://www.tidymodels.org/start/\u001b[39m\n",
      "\n"
     ]
    }
   ],
   "source": [
    "library(tidyverse)\n",
    "library(tidymodels)\n",
    "library(readxl)"
   ]
  },
  {
   "cell_type": "code",
   "execution_count": 6,
   "id": "5c7ee6c2-ee1f-46ec-b502-42be636fbb2c",
   "metadata": {},
   "outputs": [
    {
     "name": "stderr",
     "output_type": "stream",
     "text": [
      "\u001b[1m\u001b[22mNew names:\n",
      "\u001b[36m•\u001b[39m `` -> `...7`\n",
      "\u001b[36m•\u001b[39m `` -> `...8`\n"
     ]
    },
    {
     "data": {
      "text/html": [
       "<table class=\"dataframe\">\n",
       "<caption>A tibble: 6 × 9</caption>\n",
       "<thead>\n",
       "\t<tr><th scope=col>STG</th><th scope=col>SCG</th><th scope=col>STR</th><th scope=col>LPR</th><th scope=col>PEG</th><th scope=col>UNS</th><th scope=col>...7</th><th scope=col>...8</th><th scope=col>Attribute Information:</th></tr>\n",
       "\t<tr><th scope=col>&lt;dbl&gt;</th><th scope=col>&lt;dbl&gt;</th><th scope=col>&lt;dbl&gt;</th><th scope=col>&lt;dbl&gt;</th><th scope=col>&lt;dbl&gt;</th><th scope=col>&lt;chr&gt;</th><th scope=col>&lt;lgl&gt;</th><th scope=col>&lt;lgl&gt;</th><th scope=col>&lt;chr&gt;</th></tr>\n",
       "</thead>\n",
       "<tbody>\n",
       "\t<tr><td>0.00</td><td>0.00</td><td>0.00</td><td>0.00</td><td>0.00</td><td>very_low</td><td>NA</td><td>NA</td><td>STG (The degree of study time for goal object materails),                  </td></tr>\n",
       "\t<tr><td>0.08</td><td>0.08</td><td>0.10</td><td>0.24</td><td>0.90</td><td>High    </td><td>NA</td><td>NA</td><td>SCG (The degree of repetition number of user for goal object materails)    </td></tr>\n",
       "\t<tr><td>0.06</td><td>0.06</td><td>0.05</td><td>0.25</td><td>0.33</td><td>Low     </td><td>NA</td><td>NA</td><td>STR (The degree of study time of user for related objects with goal object)</td></tr>\n",
       "\t<tr><td>0.10</td><td>0.10</td><td>0.15</td><td>0.65</td><td>0.30</td><td>Middle  </td><td>NA</td><td>NA</td><td>LPR (The exam performance of user for related objects with goal object)    </td></tr>\n",
       "\t<tr><td>0.08</td><td>0.08</td><td>0.08</td><td>0.98</td><td>0.24</td><td>Low     </td><td>NA</td><td>NA</td><td>PEG (The exam performance of user for goal objects)                        </td></tr>\n",
       "\t<tr><td>0.09</td><td>0.15</td><td>0.40</td><td>0.10</td><td>0.66</td><td>Middle  </td><td>NA</td><td>NA</td><td>UNS (The knowledge level of user)                                          </td></tr>\n",
       "</tbody>\n",
       "</table>\n"
      ],
      "text/latex": [
       "A tibble: 6 × 9\n",
       "\\begin{tabular}{lllllllll}\n",
       " STG & SCG & STR & LPR & PEG & UNS & ...7 & ...8 & Attribute Information:\\\\\n",
       " <dbl> & <dbl> & <dbl> & <dbl> & <dbl> & <chr> & <lgl> & <lgl> & <chr>\\\\\n",
       "\\hline\n",
       "\t 0.00 & 0.00 & 0.00 & 0.00 & 0.00 & very\\_low & NA & NA & STG (The degree of study time for goal object materails),                  \\\\\n",
       "\t 0.08 & 0.08 & 0.10 & 0.24 & 0.90 & High     & NA & NA & SCG (The degree of repetition number of user for goal object materails)    \\\\\n",
       "\t 0.06 & 0.06 & 0.05 & 0.25 & 0.33 & Low      & NA & NA & STR (The degree of study time of user for related objects with goal object)\\\\\n",
       "\t 0.10 & 0.10 & 0.15 & 0.65 & 0.30 & Middle   & NA & NA & LPR (The exam performance of user for related objects with goal object)    \\\\\n",
       "\t 0.08 & 0.08 & 0.08 & 0.98 & 0.24 & Low      & NA & NA & PEG (The exam performance of user for goal objects)                        \\\\\n",
       "\t 0.09 & 0.15 & 0.40 & 0.10 & 0.66 & Middle   & NA & NA & UNS (The knowledge level of user)                                          \\\\\n",
       "\\end{tabular}\n"
      ],
      "text/markdown": [
       "\n",
       "A tibble: 6 × 9\n",
       "\n",
       "| STG &lt;dbl&gt; | SCG &lt;dbl&gt; | STR &lt;dbl&gt; | LPR &lt;dbl&gt; | PEG &lt;dbl&gt; | UNS &lt;chr&gt; | ...7 &lt;lgl&gt; | ...8 &lt;lgl&gt; | Attribute Information: &lt;chr&gt; |\n",
       "|---|---|---|---|---|---|---|---|---|\n",
       "| 0.00 | 0.00 | 0.00 | 0.00 | 0.00 | very_low | NA | NA | STG (The degree of study time for goal object materails),                   |\n",
       "| 0.08 | 0.08 | 0.10 | 0.24 | 0.90 | High     | NA | NA | SCG (The degree of repetition number of user for goal object materails)     |\n",
       "| 0.06 | 0.06 | 0.05 | 0.25 | 0.33 | Low      | NA | NA | STR (The degree of study time of user for related objects with goal object) |\n",
       "| 0.10 | 0.10 | 0.15 | 0.65 | 0.30 | Middle   | NA | NA | LPR (The exam performance of user for related objects with goal object)     |\n",
       "| 0.08 | 0.08 | 0.08 | 0.98 | 0.24 | Low      | NA | NA | PEG (The exam performance of user for goal objects)                         |\n",
       "| 0.09 | 0.15 | 0.40 | 0.10 | 0.66 | Middle   | NA | NA | UNS (The knowledge level of user)                                           |\n",
       "\n"
      ],
      "text/plain": [
       "  STG  SCG  STR  LPR  PEG  UNS      ...7 ...8\n",
       "1 0.00 0.00 0.00 0.00 0.00 very_low NA   NA  \n",
       "2 0.08 0.08 0.10 0.24 0.90 High     NA   NA  \n",
       "3 0.06 0.06 0.05 0.25 0.33 Low      NA   NA  \n",
       "4 0.10 0.10 0.15 0.65 0.30 Middle   NA   NA  \n",
       "5 0.08 0.08 0.08 0.98 0.24 Low      NA   NA  \n",
       "6 0.09 0.15 0.40 0.10 0.66 Middle   NA   NA  \n",
       "  Attribute Information:                                                     \n",
       "1 STG (The degree of study time for goal object materails),                  \n",
       "2 SCG (The degree of repetition number of user for goal object materails)    \n",
       "3 STR (The degree of study time of user for related objects with goal object)\n",
       "4 LPR (The exam performance of user for related objects with goal object)    \n",
       "5 PEG (The exam performance of user for goal objects)                        \n",
       "6 UNS (The knowledge level of user)                                          "
      ]
     },
     "metadata": {},
     "output_type": "display_data"
    }
   ],
   "source": [
    "temp_file <- tempfile()\n",
    "download.file(\"https://archive.ics.uci.edu/ml/machine-learning-databases/00257/Data_User_Modeling_Dataset_Hamdi%20Tolga%20KAHRAMAN.xls\", temp_file)\n",
    "data_training <- read_excel(temp_file, sheet = 2)\n",
    "head(data)"
   ]
  },
  {
   "cell_type": "markdown",
   "id": "2a21f91d-b28a-457e-a564-d8cd2dfa5947",
   "metadata": {},
   "source": []
  },
  {
   "cell_type": "markdown",
   "id": "46c79e70-92c6-4e38-8bc4-f7f6b108b5d0",
   "metadata": {},
   "source": []
  },
  {
   "cell_type": "markdown",
   "id": "6a2b3b1b-9ebb-417c-ab4c-57efd347d2e5",
   "metadata": {},
   "source": []
  },
  {
   "cell_type": "markdown",
   "id": "a9e7c188-6c45-480f-8fe0-68493c924f55",
   "metadata": {},
   "source": [
    "# Methods"
   ]
  },
  {
   "cell_type": "markdown",
   "id": "7820ca8e-e80e-47a1-97b6-3d33603583e5",
   "metadata": {},
   "source": []
  },
  {
   "cell_type": "markdown",
   "id": "768b4572-2607-4cc7-bc77-01e12d52dc4e",
   "metadata": {},
   "source": []
  },
  {
   "cell_type": "markdown",
   "id": "0565c84d-4b62-4e07-a9fc-d2cb4ed66003",
   "metadata": {},
   "source": [
    "# Expected outcomes and significance"
   ]
  },
  {
   "cell_type": "markdown",
   "id": "e9c8b38a-b6bb-4a4c-b822-03c4fb682255",
   "metadata": {},
   "source": [
    "### What do you expect to find?"
   ]
  },
  {
   "cell_type": "markdown",
   "id": "df5396c5-68c4-4729-b87c-db15404df98e",
   "metadata": {
    "tags": []
   },
   "source": []
  },
  {
   "cell_type": "markdown",
   "id": "08eb4854-9c8e-4442-9b2a-4879ecae5eb3",
   "metadata": {},
   "source": [
    "### What impact could such findings have?"
   ]
  },
  {
   "cell_type": "markdown",
   "id": "488c0a7e-3efe-448d-a733-a93dcacfd50c",
   "metadata": {},
   "source": []
  },
  {
   "cell_type": "markdown",
   "id": "4b6d4b2b-d0e5-4681-8192-f74d71cdcad9",
   "metadata": {},
   "source": [
    "### What future questions could this lead to?"
   ]
  },
  {
   "cell_type": "markdown",
   "id": "fab5ed41-776c-487d-a9a0-a209e2a57afa",
   "metadata": {},
   "source": []
  },
  {
   "cell_type": "code",
   "execution_count": null,
   "id": "ec8d34b0-1545-4b53-b468-fa090c8909fe",
   "metadata": {},
   "outputs": [
    {
     "name": "stderr",
     "output_type": "stream",
     "text": [
      "Warning message in file(filename, \"r\", encoding = encoding):\n",
      "“cannot open file 'cleanup.R': No such file or directory”\n"
     ]
    },
    {
     "ename": "ERROR",
     "evalue": "Error in file(filename, \"r\", encoding = encoding): cannot open the connection\n",
     "output_type": "error",
     "traceback": [
      "Error in file(filename, \"r\", encoding = encoding): cannot open the connection\nTraceback:\n",
      "1. source(\"cleanup.R\")",
      "2. file(filename, \"r\", encoding = encoding)"
     ]
    }
   ],
   "source": []
  }
 ],
 "metadata": {
  "kernelspec": {
   "display_name": "R",
   "language": "R",
   "name": "ir"
  },
  "language_info": {
   "codemirror_mode": "r",
   "file_extension": ".r",
   "mimetype": "text/x-r-source",
   "name": "R",
   "pygments_lexer": "r",
   "version": "4.1.3"
  }
 },
 "nbformat": 4,
 "nbformat_minor": 5
}
