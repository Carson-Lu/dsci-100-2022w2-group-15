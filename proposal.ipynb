{
 "cells": [
  {
   "cell_type": "markdown",
   "id": "b6614a25-6ccd-4cc4-a009-215322b37e00",
   "metadata": {},
   "source": [
    "# Predicting Knowledge Level of Students in Electrical DC Machines"
   ]
  },
  {
   "cell_type": "markdown",
   "id": "e7111395-ed98-4910-bb3b-55944f96f2c9",
   "metadata": {},
   "source": [
    "# Introduction"
   ]
  },
  {
   "cell_type": "markdown",
   "id": "a6951cac-16ad-4656-b1a4-37a24ebafcb9",
   "metadata": {},
   "source": [
    "Electrical DC Machines are essential components of many electrical systems, and students learning about this subject must have a good understanding of it. In this project, we aim to analyze the student's knowledge status about the subject of Electrical DC Machines. The dataset used in this project is obtained from a Ph.D. thesis. and the dataset was obtained from the UCI Machine Learning Repository titled \"User knowledge Modelling Data Set\"."
   ]
  },
  {
   "cell_type": "markdown",
   "id": "59369fe0-5b36-4459-8516-06b83bfbe79a",
   "metadata": {},
   "source": [
    "We want to answer the following question:\n",
    "\n",
    "**Can we predict the knowledge level of students in Electrical DC Machines based on their study habits (STG,SCG,STR)?**"
   ]
  },
  {
   "cell_type": "markdown",
   "id": "14d77a16-4da3-4c03-b8d2-f27fc83b3efe",
   "metadata": {},
   "source": [
    "This dataset contains information on students knowledge status about Electrical DC Machines, including their study time for goal object materials (STG), degree of repetition number of user for goal object materials (SCG), degree of study time of user for related objects with goal object (STR), exam performance of user for related objects with goal object (LPR), exam performance of user for goal objects (PEG), and knowledge level of the user (UNS). The UNS column is the target variable, with four possible values: Very Low, Low, Middle, and High."
   ]
  },
  {
   "cell_type": "markdown",
   "id": "67ccfde3-deb4-4020-b564-c8a73fd4caa4",
   "metadata": {},
   "source": [
    "The columns in the dataset are:\n",
    "<ol>\n",
    "    <li> STG: The degree of study time for goal object materials </li>\n",
    "    <li> SCG: The degree of repetition number of user for goal materials</li>\n",
    "    <li> STR: The degree of study time of user for related objects with goal object</li>\n",
    "    <li> LPR: The exam performance of user fro related objects with goal object </li>\n",
    "    <li> PEG: The exam performance of user for goal objects</li>\n",
    "    <li> UNS: The knowledge level of user</li>\n",
    "</ol>"
   ]
  },
  {
   "cell_type": "markdown",
   "id": "3a2b6242-a2cc-4f1c-a939-cf880fe52376",
   "metadata": {},
   "source": [
    "# Preliminary exploratory data analysis"
   ]
  },
  {
   "cell_type": "code",
   "execution_count": 43,
   "id": "5e480403-5bec-4cbc-9341-1abd1083218d",
   "metadata": {},
   "outputs": [],
   "source": [
    "library(tidyverse)\n",
    "library(tidymodels)\n",
    "library(ggplot2)\n",
    "library(readxl)\n",
    "set.seed(1234)"
   ]
  },
  {
   "cell_type": "markdown",
   "id": "541b379f-6e06-4c98-9212-2995ea9db6eb",
   "metadata": {},
   "source": [
    "<h2> Loading the dataset into R </h2>"
   ]
  },
  {
   "cell_type": "code",
   "execution_count": 44,
   "id": "5c7ee6c2-ee1f-46ec-b502-42be636fbb2c",
   "metadata": {},
   "outputs": [
    {
     "name": "stderr",
     "output_type": "stream",
     "text": [
      "\u001b[1m\u001b[22mNew names:\n",
      "\u001b[36m•\u001b[39m `` -> `...7`\n",
      "\u001b[36m•\u001b[39m `` -> `...8`\n"
     ]
    },
    {
     "data": {
      "text/html": [
       "<table class=\"dataframe\">\n",
       "<caption>A tibble: 6 × 9</caption>\n",
       "<thead>\n",
       "\t<tr><th scope=col>STG</th><th scope=col>SCG</th><th scope=col>STR</th><th scope=col>LPR</th><th scope=col>PEG</th><th scope=col>UNS</th><th scope=col>...7</th><th scope=col>...8</th><th scope=col>Attribute Information:</th></tr>\n",
       "\t<tr><th scope=col>&lt;dbl&gt;</th><th scope=col>&lt;dbl&gt;</th><th scope=col>&lt;dbl&gt;</th><th scope=col>&lt;dbl&gt;</th><th scope=col>&lt;dbl&gt;</th><th scope=col>&lt;chr&gt;</th><th scope=col>&lt;lgl&gt;</th><th scope=col>&lt;lgl&gt;</th><th scope=col>&lt;chr&gt;</th></tr>\n",
       "</thead>\n",
       "<tbody>\n",
       "\t<tr><td>0.00</td><td>0.00</td><td>0.00</td><td>0.00</td><td>0.00</td><td>very_low</td><td>NA</td><td>NA</td><td>STG (The degree of study time for goal object materails),                  </td></tr>\n",
       "\t<tr><td>0.08</td><td>0.08</td><td>0.10</td><td>0.24</td><td>0.90</td><td>High    </td><td>NA</td><td>NA</td><td>SCG (The degree of repetition number of user for goal object materails)    </td></tr>\n",
       "\t<tr><td>0.06</td><td>0.06</td><td>0.05</td><td>0.25</td><td>0.33</td><td>Low     </td><td>NA</td><td>NA</td><td>STR (The degree of study time of user for related objects with goal object)</td></tr>\n",
       "\t<tr><td>0.10</td><td>0.10</td><td>0.15</td><td>0.65</td><td>0.30</td><td>Middle  </td><td>NA</td><td>NA</td><td>LPR (The exam performance of user for related objects with goal object)    </td></tr>\n",
       "\t<tr><td>0.08</td><td>0.08</td><td>0.08</td><td>0.98</td><td>0.24</td><td>Low     </td><td>NA</td><td>NA</td><td>PEG (The exam performance of user for goal objects)                        </td></tr>\n",
       "\t<tr><td>0.09</td><td>0.15</td><td>0.40</td><td>0.10</td><td>0.66</td><td>Middle  </td><td>NA</td><td>NA</td><td>UNS (The knowledge level of user)                                          </td></tr>\n",
       "</tbody>\n",
       "</table>\n"
      ],
      "text/latex": [
       "A tibble: 6 × 9\n",
       "\\begin{tabular}{lllllllll}\n",
       " STG & SCG & STR & LPR & PEG & UNS & ...7 & ...8 & Attribute Information:\\\\\n",
       " <dbl> & <dbl> & <dbl> & <dbl> & <dbl> & <chr> & <lgl> & <lgl> & <chr>\\\\\n",
       "\\hline\n",
       "\t 0.00 & 0.00 & 0.00 & 0.00 & 0.00 & very\\_low & NA & NA & STG (The degree of study time for goal object materails),                  \\\\\n",
       "\t 0.08 & 0.08 & 0.10 & 0.24 & 0.90 & High     & NA & NA & SCG (The degree of repetition number of user for goal object materails)    \\\\\n",
       "\t 0.06 & 0.06 & 0.05 & 0.25 & 0.33 & Low      & NA & NA & STR (The degree of study time of user for related objects with goal object)\\\\\n",
       "\t 0.10 & 0.10 & 0.15 & 0.65 & 0.30 & Middle   & NA & NA & LPR (The exam performance of user for related objects with goal object)    \\\\\n",
       "\t 0.08 & 0.08 & 0.08 & 0.98 & 0.24 & Low      & NA & NA & PEG (The exam performance of user for goal objects)                        \\\\\n",
       "\t 0.09 & 0.15 & 0.40 & 0.10 & 0.66 & Middle   & NA & NA & UNS (The knowledge level of user)                                          \\\\\n",
       "\\end{tabular}\n"
      ],
      "text/markdown": [
       "\n",
       "A tibble: 6 × 9\n",
       "\n",
       "| STG &lt;dbl&gt; | SCG &lt;dbl&gt; | STR &lt;dbl&gt; | LPR &lt;dbl&gt; | PEG &lt;dbl&gt; | UNS &lt;chr&gt; | ...7 &lt;lgl&gt; | ...8 &lt;lgl&gt; | Attribute Information: &lt;chr&gt; |\n",
       "|---|---|---|---|---|---|---|---|---|\n",
       "| 0.00 | 0.00 | 0.00 | 0.00 | 0.00 | very_low | NA | NA | STG (The degree of study time for goal object materails),                   |\n",
       "| 0.08 | 0.08 | 0.10 | 0.24 | 0.90 | High     | NA | NA | SCG (The degree of repetition number of user for goal object materails)     |\n",
       "| 0.06 | 0.06 | 0.05 | 0.25 | 0.33 | Low      | NA | NA | STR (The degree of study time of user for related objects with goal object) |\n",
       "| 0.10 | 0.10 | 0.15 | 0.65 | 0.30 | Middle   | NA | NA | LPR (The exam performance of user for related objects with goal object)     |\n",
       "| 0.08 | 0.08 | 0.08 | 0.98 | 0.24 | Low      | NA | NA | PEG (The exam performance of user for goal objects)                         |\n",
       "| 0.09 | 0.15 | 0.40 | 0.10 | 0.66 | Middle   | NA | NA | UNS (The knowledge level of user)                                           |\n",
       "\n"
      ],
      "text/plain": [
       "  STG  SCG  STR  LPR  PEG  UNS      ...7 ...8\n",
       "1 0.00 0.00 0.00 0.00 0.00 very_low NA   NA  \n",
       "2 0.08 0.08 0.10 0.24 0.90 High     NA   NA  \n",
       "3 0.06 0.06 0.05 0.25 0.33 Low      NA   NA  \n",
       "4 0.10 0.10 0.15 0.65 0.30 Middle   NA   NA  \n",
       "5 0.08 0.08 0.08 0.98 0.24 Low      NA   NA  \n",
       "6 0.09 0.15 0.40 0.10 0.66 Middle   NA   NA  \n",
       "  Attribute Information:                                                     \n",
       "1 STG (The degree of study time for goal object materails),                  \n",
       "2 SCG (The degree of repetition number of user for goal object materails)    \n",
       "3 STR (The degree of study time of user for related objects with goal object)\n",
       "4 LPR (The exam performance of user for related objects with goal object)    \n",
       "5 PEG (The exam performance of user for goal objects)                        \n",
       "6 UNS (The knowledge level of user)                                          "
      ]
     },
     "metadata": {},
     "output_type": "display_data"
    }
   ],
   "source": [
    "temp_file <- tempfile()\n",
    "download.file(\"https://archive.ics.uci.edu/ml/machine-learning-databases/00257/Data_User_Modeling_Dataset_Hamdi%20Tolga%20KAHRAMAN.xls\", temp_file)\n",
    "study_data <- read_excel(temp_file, sheet = 2)\n",
    "head(study_data)"
   ]
  },
  {
   "cell_type": "markdown",
   "id": "fb05ab73-68c6-4ea9-9048-6047bfb4df65",
   "metadata": {},
   "source": [
    "<h2> Cleaning and Wrangling </h2>"
   ]
  },
  {
   "cell_type": "code",
   "execution_count": 45,
   "id": "16e81ee2-0af6-4042-8286-d57b9e5e4f21",
   "metadata": {},
   "outputs": [
    {
     "data": {
      "text/html": [
       "<table class=\"dataframe\">\n",
       "<caption>A tibble: 6 × 6</caption>\n",
       "<thead>\n",
       "\t<tr><th scope=col>STG</th><th scope=col>SCG</th><th scope=col>STR</th><th scope=col>LPR</th><th scope=col>PEG</th><th scope=col>UNS</th></tr>\n",
       "\t<tr><th scope=col>&lt;dbl&gt;</th><th scope=col>&lt;dbl&gt;</th><th scope=col>&lt;dbl&gt;</th><th scope=col>&lt;dbl&gt;</th><th scope=col>&lt;dbl&gt;</th><th scope=col>&lt;chr&gt;</th></tr>\n",
       "</thead>\n",
       "<tbody>\n",
       "\t<tr><td>0.00</td><td>0.00</td><td>0.00</td><td>0.00</td><td>0.00</td><td>very_low</td></tr>\n",
       "\t<tr><td>0.08</td><td>0.08</td><td>0.10</td><td>0.24</td><td>0.90</td><td>High    </td></tr>\n",
       "\t<tr><td>0.06</td><td>0.06</td><td>0.05</td><td>0.25</td><td>0.33</td><td>Low     </td></tr>\n",
       "\t<tr><td>0.10</td><td>0.10</td><td>0.15</td><td>0.65</td><td>0.30</td><td>Middle  </td></tr>\n",
       "\t<tr><td>0.08</td><td>0.08</td><td>0.08</td><td>0.98</td><td>0.24</td><td>Low     </td></tr>\n",
       "\t<tr><td>0.09</td><td>0.15</td><td>0.40</td><td>0.10</td><td>0.66</td><td>Middle  </td></tr>\n",
       "</tbody>\n",
       "</table>\n"
      ],
      "text/latex": [
       "A tibble: 6 × 6\n",
       "\\begin{tabular}{llllll}\n",
       " STG & SCG & STR & LPR & PEG & UNS\\\\\n",
       " <dbl> & <dbl> & <dbl> & <dbl> & <dbl> & <chr>\\\\\n",
       "\\hline\n",
       "\t 0.00 & 0.00 & 0.00 & 0.00 & 0.00 & very\\_low\\\\\n",
       "\t 0.08 & 0.08 & 0.10 & 0.24 & 0.90 & High    \\\\\n",
       "\t 0.06 & 0.06 & 0.05 & 0.25 & 0.33 & Low     \\\\\n",
       "\t 0.10 & 0.10 & 0.15 & 0.65 & 0.30 & Middle  \\\\\n",
       "\t 0.08 & 0.08 & 0.08 & 0.98 & 0.24 & Low     \\\\\n",
       "\t 0.09 & 0.15 & 0.40 & 0.10 & 0.66 & Middle  \\\\\n",
       "\\end{tabular}\n"
      ],
      "text/markdown": [
       "\n",
       "A tibble: 6 × 6\n",
       "\n",
       "| STG &lt;dbl&gt; | SCG &lt;dbl&gt; | STR &lt;dbl&gt; | LPR &lt;dbl&gt; | PEG &lt;dbl&gt; | UNS &lt;chr&gt; |\n",
       "|---|---|---|---|---|---|\n",
       "| 0.00 | 0.00 | 0.00 | 0.00 | 0.00 | very_low |\n",
       "| 0.08 | 0.08 | 0.10 | 0.24 | 0.90 | High     |\n",
       "| 0.06 | 0.06 | 0.05 | 0.25 | 0.33 | Low      |\n",
       "| 0.10 | 0.10 | 0.15 | 0.65 | 0.30 | Middle   |\n",
       "| 0.08 | 0.08 | 0.08 | 0.98 | 0.24 | Low      |\n",
       "| 0.09 | 0.15 | 0.40 | 0.10 | 0.66 | Middle   |\n",
       "\n"
      ],
      "text/plain": [
       "  STG  SCG  STR  LPR  PEG  UNS     \n",
       "1 0.00 0.00 0.00 0.00 0.00 very_low\n",
       "2 0.08 0.08 0.10 0.24 0.90 High    \n",
       "3 0.06 0.06 0.05 0.25 0.33 Low     \n",
       "4 0.10 0.10 0.15 0.65 0.30 Middle  \n",
       "5 0.08 0.08 0.08 0.98 0.24 Low     \n",
       "6 0.09 0.15 0.40 0.10 0.66 Middle  "
      ]
     },
     "metadata": {},
     "output_type": "display_data"
    },
    {
     "data": {
      "text/html": [
       "258"
      ],
      "text/latex": [
       "258"
      ],
      "text/markdown": [
       "258"
      ],
      "text/plain": [
       "[1] 258"
      ]
     },
     "metadata": {},
     "output_type": "display_data"
    },
    {
     "data": {
      "text/html": [
       "<table class=\"dataframe\">\n",
       "<caption>A tibble: 6 × 6</caption>\n",
       "<thead>\n",
       "\t<tr><th scope=col>STG</th><th scope=col>SCG</th><th scope=col>STR</th><th scope=col>LPR</th><th scope=col>PEG</th><th scope=col>UNS</th></tr>\n",
       "\t<tr><th scope=col>&lt;dbl&gt;</th><th scope=col>&lt;dbl&gt;</th><th scope=col>&lt;dbl&gt;</th><th scope=col>&lt;dbl&gt;</th><th scope=col>&lt;dbl&gt;</th><th scope=col>&lt;chr&gt;</th></tr>\n",
       "</thead>\n",
       "<tbody>\n",
       "\t<tr><td>0.00</td><td>0.000</td><td>0.50</td><td>0.20</td><td>0.85</td><td>High    </td></tr>\n",
       "\t<tr><td>0.18</td><td>0.180</td><td>0.55</td><td>0.30</td><td>0.81</td><td>High    </td></tr>\n",
       "\t<tr><td>0.12</td><td>0.120</td><td>0.75</td><td>0.35</td><td>0.80</td><td>High    </td></tr>\n",
       "\t<tr><td>0.05</td><td>0.070</td><td>0.70</td><td>0.01</td><td>0.05</td><td>very_low</td></tr>\n",
       "\t<tr><td>0.09</td><td>0.300</td><td>0.68</td><td>0.18</td><td>0.85</td><td>High    </td></tr>\n",
       "\t<tr><td>0.08</td><td>0.325</td><td>0.62</td><td>0.94</td><td>0.56</td><td>High    </td></tr>\n",
       "</tbody>\n",
       "</table>\n"
      ],
      "text/latex": [
       "A tibble: 6 × 6\n",
       "\\begin{tabular}{llllll}\n",
       " STG & SCG & STR & LPR & PEG & UNS\\\\\n",
       " <dbl> & <dbl> & <dbl> & <dbl> & <dbl> & <chr>\\\\\n",
       "\\hline\n",
       "\t 0.00 & 0.000 & 0.50 & 0.20 & 0.85 & High    \\\\\n",
       "\t 0.18 & 0.180 & 0.55 & 0.30 & 0.81 & High    \\\\\n",
       "\t 0.12 & 0.120 & 0.75 & 0.35 & 0.80 & High    \\\\\n",
       "\t 0.05 & 0.070 & 0.70 & 0.01 & 0.05 & very\\_low\\\\\n",
       "\t 0.09 & 0.300 & 0.68 & 0.18 & 0.85 & High    \\\\\n",
       "\t 0.08 & 0.325 & 0.62 & 0.94 & 0.56 & High    \\\\\n",
       "\\end{tabular}\n"
      ],
      "text/markdown": [
       "\n",
       "A tibble: 6 × 6\n",
       "\n",
       "| STG &lt;dbl&gt; | SCG &lt;dbl&gt; | STR &lt;dbl&gt; | LPR &lt;dbl&gt; | PEG &lt;dbl&gt; | UNS &lt;chr&gt; |\n",
       "|---|---|---|---|---|---|\n",
       "| 0.00 | 0.000 | 0.50 | 0.20 | 0.85 | High     |\n",
       "| 0.18 | 0.180 | 0.55 | 0.30 | 0.81 | High     |\n",
       "| 0.12 | 0.120 | 0.75 | 0.35 | 0.80 | High     |\n",
       "| 0.05 | 0.070 | 0.70 | 0.01 | 0.05 | very_low |\n",
       "| 0.09 | 0.300 | 0.68 | 0.18 | 0.85 | High     |\n",
       "| 0.08 | 0.325 | 0.62 | 0.94 | 0.56 | High     |\n",
       "\n"
      ],
      "text/plain": [
       "  STG  SCG   STR  LPR  PEG  UNS     \n",
       "1 0.00 0.000 0.50 0.20 0.85 High    \n",
       "2 0.18 0.180 0.55 0.30 0.81 High    \n",
       "3 0.12 0.120 0.75 0.35 0.80 High    \n",
       "4 0.05 0.070 0.70 0.01 0.05 very_low\n",
       "5 0.09 0.300 0.68 0.18 0.85 High    \n",
       "6 0.08 0.325 0.62 0.94 0.56 High    "
      ]
     },
     "metadata": {},
     "output_type": "display_data"
    },
    {
     "data": {
      "text/html": [
       "<table class=\"dataframe\">\n",
       "<caption>A tibble: 6 × 6</caption>\n",
       "<thead>\n",
       "\t<tr><th scope=col>STG</th><th scope=col>SCG</th><th scope=col>STR</th><th scope=col>LPR</th><th scope=col>PEG</th><th scope=col>UNS</th></tr>\n",
       "\t<tr><th scope=col>&lt;dbl&gt;</th><th scope=col>&lt;dbl&gt;</th><th scope=col>&lt;dbl&gt;</th><th scope=col>&lt;dbl&gt;</th><th scope=col>&lt;dbl&gt;</th><th scope=col>&lt;chr&gt;</th></tr>\n",
       "</thead>\n",
       "<tbody>\n",
       "\t<tr><td>0.00</td><td>0.00</td><td>0.00</td><td>0.00</td><td>0.00</td><td>very_low</td></tr>\n",
       "\t<tr><td>0.08</td><td>0.08</td><td>0.10</td><td>0.24</td><td>0.90</td><td>High    </td></tr>\n",
       "\t<tr><td>0.20</td><td>0.14</td><td>0.35</td><td>0.72</td><td>0.25</td><td>Low     </td></tr>\n",
       "\t<tr><td>0.10</td><td>0.10</td><td>0.70</td><td>0.15</td><td>0.90</td><td>High    </td></tr>\n",
       "\t<tr><td>0.20</td><td>0.20</td><td>0.70</td><td>0.30</td><td>0.60</td><td>Middle  </td></tr>\n",
       "\t<tr><td>0.18</td><td>0.31</td><td>0.32</td><td>0.42</td><td>0.28</td><td>Low     </td></tr>\n",
       "</tbody>\n",
       "</table>\n"
      ],
      "text/latex": [
       "A tibble: 6 × 6\n",
       "\\begin{tabular}{llllll}\n",
       " STG & SCG & STR & LPR & PEG & UNS\\\\\n",
       " <dbl> & <dbl> & <dbl> & <dbl> & <dbl> & <chr>\\\\\n",
       "\\hline\n",
       "\t 0.00 & 0.00 & 0.00 & 0.00 & 0.00 & very\\_low\\\\\n",
       "\t 0.08 & 0.08 & 0.10 & 0.24 & 0.90 & High    \\\\\n",
       "\t 0.20 & 0.14 & 0.35 & 0.72 & 0.25 & Low     \\\\\n",
       "\t 0.10 & 0.10 & 0.70 & 0.15 & 0.90 & High    \\\\\n",
       "\t 0.20 & 0.20 & 0.70 & 0.30 & 0.60 & Middle  \\\\\n",
       "\t 0.18 & 0.31 & 0.32 & 0.42 & 0.28 & Low     \\\\\n",
       "\\end{tabular}\n"
      ],
      "text/markdown": [
       "\n",
       "A tibble: 6 × 6\n",
       "\n",
       "| STG &lt;dbl&gt; | SCG &lt;dbl&gt; | STR &lt;dbl&gt; | LPR &lt;dbl&gt; | PEG &lt;dbl&gt; | UNS &lt;chr&gt; |\n",
       "|---|---|---|---|---|---|\n",
       "| 0.00 | 0.00 | 0.00 | 0.00 | 0.00 | very_low |\n",
       "| 0.08 | 0.08 | 0.10 | 0.24 | 0.90 | High     |\n",
       "| 0.20 | 0.14 | 0.35 | 0.72 | 0.25 | Low      |\n",
       "| 0.10 | 0.10 | 0.70 | 0.15 | 0.90 | High     |\n",
       "| 0.20 | 0.20 | 0.70 | 0.30 | 0.60 | Middle   |\n",
       "| 0.18 | 0.31 | 0.32 | 0.42 | 0.28 | Low      |\n",
       "\n"
      ],
      "text/plain": [
       "  STG  SCG  STR  LPR  PEG  UNS     \n",
       "1 0.00 0.00 0.00 0.00 0.00 very_low\n",
       "2 0.08 0.08 0.10 0.24 0.90 High    \n",
       "3 0.20 0.14 0.35 0.72 0.25 Low     \n",
       "4 0.10 0.10 0.70 0.15 0.90 High    \n",
       "5 0.20 0.20 0.70 0.30 0.60 Middle  \n",
       "6 0.18 0.31 0.32 0.42 0.28 Low     "
      ]
     },
     "metadata": {},
     "output_type": "display_data"
    }
   ],
   "source": [
    "#Data is already in tidy format\n",
    "study_data_required <- study_data |> select(STG,SCG,STR,LPR,PEG,UNS) |> drop_na()\n",
    "head(study_data_required)\n",
    "\n",
    "\n",
    "#Summarizing\n",
    "nrow(study_data_required)\n",
    "data_split <- initial_split(study_data_required,prop = 0.75, strata = UNS)\n",
    "data_training <- training(data_split)\n",
    "data_test <- testing(data_split)\n",
    "\n",
    "head(data_training)\n",
    "head(data_test)"
   ]
  },
  {
   "cell_type": "markdown",
   "id": "e8ab3a18-9f1c-48ff-a3c8-897312cdad16",
   "metadata": {},
   "source": [
    "<h2> Summary of the Dataset (not using Training dataset)</h2>"
   ]
  },
  {
   "cell_type": "code",
   "execution_count": 46,
   "id": "cb3e903f-30d5-4e9a-b220-ee8b22f28f8b",
   "metadata": {},
   "outputs": [
    {
     "data": {
      "text/html": [
       "<table class=\"dataframe\">\n",
       "<caption>A tibble: 4 × 3</caption>\n",
       "<thead>\n",
       "\t<tr><th scope=col>UNS</th><th scope=col>count</th><th scope=col>percentage</th></tr>\n",
       "\t<tr><th scope=col>&lt;chr&gt;</th><th scope=col>&lt;int&gt;</th><th scope=col>&lt;dbl&gt;</th></tr>\n",
       "</thead>\n",
       "<tbody>\n",
       "\t<tr><td>High    </td><td>63</td><td>24.418605</td></tr>\n",
       "\t<tr><td>Low     </td><td>83</td><td>32.170543</td></tr>\n",
       "\t<tr><td>Middle  </td><td>88</td><td>34.108527</td></tr>\n",
       "\t<tr><td>very_low</td><td>24</td><td> 9.302326</td></tr>\n",
       "</tbody>\n",
       "</table>\n"
      ],
      "text/latex": [
       "A tibble: 4 × 3\n",
       "\\begin{tabular}{lll}\n",
       " UNS & count & percentage\\\\\n",
       " <chr> & <int> & <dbl>\\\\\n",
       "\\hline\n",
       "\t High     & 63 & 24.418605\\\\\n",
       "\t Low      & 83 & 32.170543\\\\\n",
       "\t Middle   & 88 & 34.108527\\\\\n",
       "\t very\\_low & 24 &  9.302326\\\\\n",
       "\\end{tabular}\n"
      ],
      "text/markdown": [
       "\n",
       "A tibble: 4 × 3\n",
       "\n",
       "| UNS &lt;chr&gt; | count &lt;int&gt; | percentage &lt;dbl&gt; |\n",
       "|---|---|---|\n",
       "| High     | 63 | 24.418605 |\n",
       "| Low      | 83 | 32.170543 |\n",
       "| Middle   | 88 | 34.108527 |\n",
       "| very_low | 24 |  9.302326 |\n",
       "\n"
      ],
      "text/plain": [
       "  UNS      count percentage\n",
       "1 High     63    24.418605 \n",
       "2 Low      83    32.170543 \n",
       "3 Middle   88    34.108527 \n",
       "4 very_low 24     9.302326 "
      ]
     },
     "metadata": {},
     "output_type": "display_data"
    }
   ],
   "source": [
    "num_obs <- nrow(data_required)\n",
    "\n",
    "data_summary <- data_required |>\n",
    "  group_by(UNS) |>\n",
    "  summarize(\n",
    "    count = n(),\n",
    "    percentage = (n()/num_obs) * 100\n",
    "  )\n",
    "\n",
    "data_summary"
   ]
  },
  {
   "cell_type": "markdown",
   "id": "b2188a6d-249e-4847-aab3-8bee82040ba0",
   "metadata": {},
   "source": [
    "<h2>Summary of the data using Training Data </h2>"
   ]
  },
  {
   "cell_type": "code",
   "execution_count": 47,
   "id": "9f692823-e417-48bd-826e-12d88eedf925",
   "metadata": {},
   "outputs": [
    {
     "data": {
      "text/html": [
       "<table class=\"dataframe\">\n",
       "<caption>A tibble: 4 × 8</caption>\n",
       "<thead>\n",
       "\t<tr><th scope=col>UNS</th><th scope=col>count</th><th scope=col>percentage</th><th scope=col>STG_mean</th><th scope=col>SCG_mean</th><th scope=col>STR_mean</th><th scope=col>LPR_mean</th><th scope=col>PEG_mean</th></tr>\n",
       "\t<tr><th scope=col>&lt;chr&gt;</th><th scope=col>&lt;int&gt;</th><th scope=col>&lt;dbl&gt;</th><th scope=col>&lt;dbl&gt;</th><th scope=col>&lt;dbl&gt;</th><th scope=col>&lt;dbl&gt;</th><th scope=col>&lt;dbl&gt;</th><th scope=col>&lt;dbl&gt;</th></tr>\n",
       "</thead>\n",
       "<tbody>\n",
       "\t<tr><td>High    </td><td>48</td><td>25.000000</td><td>0.4100000</td><td>0.4216875</td><td>0.4216875</td><td>0.4914583</td><td>0.7725000</td></tr>\n",
       "\t<tr><td>Low     </td><td>62</td><td>32.291667</td><td>0.3170806</td><td>0.3367097</td><td>0.3367097</td><td>0.4932258</td><td>0.2360161</td></tr>\n",
       "\t<tr><td>Middle  </td><td>68</td><td>35.416667</td><td>0.3883529</td><td>0.3709265</td><td>0.3709265</td><td>0.3310294</td><td>0.5470588</td></tr>\n",
       "\t<tr><td>very_low</td><td>14</td><td> 7.291667</td><td>0.3337857</td><td>0.2164286</td><td>0.2164286</td><td>0.3350000</td><td>0.1064286</td></tr>\n",
       "</tbody>\n",
       "</table>\n"
      ],
      "text/latex": [
       "A tibble: 4 × 8\n",
       "\\begin{tabular}{llllllll}\n",
       " UNS & count & percentage & STG\\_mean & SCG\\_mean & STR\\_mean & LPR\\_mean & PEG\\_mean\\\\\n",
       " <chr> & <int> & <dbl> & <dbl> & <dbl> & <dbl> & <dbl> & <dbl>\\\\\n",
       "\\hline\n",
       "\t High     & 48 & 25.000000 & 0.4100000 & 0.4216875 & 0.4216875 & 0.4914583 & 0.7725000\\\\\n",
       "\t Low      & 62 & 32.291667 & 0.3170806 & 0.3367097 & 0.3367097 & 0.4932258 & 0.2360161\\\\\n",
       "\t Middle   & 68 & 35.416667 & 0.3883529 & 0.3709265 & 0.3709265 & 0.3310294 & 0.5470588\\\\\n",
       "\t very\\_low & 14 &  7.291667 & 0.3337857 & 0.2164286 & 0.2164286 & 0.3350000 & 0.1064286\\\\\n",
       "\\end{tabular}\n"
      ],
      "text/markdown": [
       "\n",
       "A tibble: 4 × 8\n",
       "\n",
       "| UNS &lt;chr&gt; | count &lt;int&gt; | percentage &lt;dbl&gt; | STG_mean &lt;dbl&gt; | SCG_mean &lt;dbl&gt; | STR_mean &lt;dbl&gt; | LPR_mean &lt;dbl&gt; | PEG_mean &lt;dbl&gt; |\n",
       "|---|---|---|---|---|---|---|---|\n",
       "| High     | 48 | 25.000000 | 0.4100000 | 0.4216875 | 0.4216875 | 0.4914583 | 0.7725000 |\n",
       "| Low      | 62 | 32.291667 | 0.3170806 | 0.3367097 | 0.3367097 | 0.4932258 | 0.2360161 |\n",
       "| Middle   | 68 | 35.416667 | 0.3883529 | 0.3709265 | 0.3709265 | 0.3310294 | 0.5470588 |\n",
       "| very_low | 14 |  7.291667 | 0.3337857 | 0.2164286 | 0.2164286 | 0.3350000 | 0.1064286 |\n",
       "\n"
      ],
      "text/plain": [
       "  UNS      count percentage STG_mean  SCG_mean  STR_mean  LPR_mean  PEG_mean \n",
       "1 High     48    25.000000  0.4100000 0.4216875 0.4216875 0.4914583 0.7725000\n",
       "2 Low      62    32.291667  0.3170806 0.3367097 0.3367097 0.4932258 0.2360161\n",
       "3 Middle   68    35.416667  0.3883529 0.3709265 0.3709265 0.3310294 0.5470588\n",
       "4 very_low 14     7.291667  0.3337857 0.2164286 0.2164286 0.3350000 0.1064286"
      ]
     },
     "metadata": {},
     "output_type": "display_data"
    }
   ],
   "source": [
    "num_observation <- nrow(data_training)\n",
    "\n",
    "data_summary_train <- data_training |>\n",
    "  group_by(UNS) |>\n",
    "  summarize(\n",
    "    count = n(),\n",
    "       percentage = (n()/num_observation) * 100,\n",
    "       STG_mean = mean(STG, na.rm = TRUE),\n",
    "       SCG_mean = mean(SCG, na.rm = TRUE),\n",
    "       STR_mean = mean(SCG, na.rm = TRUE),\n",
    "       LPR_mean = mean(LPR, na.rm = TRUE),\n",
    "       PEG_mean = mean(PEG, na.rm = TRUE))\n",
    "\n",
    "data_summary_train"
   ]
  },
  {
   "cell_type": "code",
   "execution_count": 48,
   "id": "f1f7fbb9-e56a-482c-9cdc-9a4449074d16",
   "metadata": {},
   "outputs": [
    {
     "data": {
      "text/html": [
       "<table class=\"dataframe\">\n",
       "<caption>A tibble: 12 × 3</caption>\n",
       "<thead>\n",
       "\t<tr><th scope=col>UNS</th><th scope=col>study_habit</th><th scope=col>mean</th></tr>\n",
       "\t<tr><th scope=col>&lt;chr&gt;</th><th scope=col>&lt;chr&gt;</th><th scope=col>&lt;dbl&gt;</th></tr>\n",
       "</thead>\n",
       "<tbody>\n",
       "\t<tr><td>High    </td><td>STG_mean</td><td>0.4100000</td></tr>\n",
       "\t<tr><td>High    </td><td>SCG_mean</td><td>0.4216875</td></tr>\n",
       "\t<tr><td>High    </td><td>STR_mean</td><td>0.4216875</td></tr>\n",
       "\t<tr><td>Low     </td><td>STG_mean</td><td>0.3170806</td></tr>\n",
       "\t<tr><td>Low     </td><td>SCG_mean</td><td>0.3367097</td></tr>\n",
       "\t<tr><td>Low     </td><td>STR_mean</td><td>0.3367097</td></tr>\n",
       "\t<tr><td>Middle  </td><td>STG_mean</td><td>0.3883529</td></tr>\n",
       "\t<tr><td>Middle  </td><td>SCG_mean</td><td>0.3709265</td></tr>\n",
       "\t<tr><td>Middle  </td><td>STR_mean</td><td>0.3709265</td></tr>\n",
       "\t<tr><td>very_low</td><td>STG_mean</td><td>0.3337857</td></tr>\n",
       "\t<tr><td>very_low</td><td>SCG_mean</td><td>0.2164286</td></tr>\n",
       "\t<tr><td>very_low</td><td>STR_mean</td><td>0.2164286</td></tr>\n",
       "</tbody>\n",
       "</table>\n"
      ],
      "text/latex": [
       "A tibble: 12 × 3\n",
       "\\begin{tabular}{lll}\n",
       " UNS & study\\_habit & mean\\\\\n",
       " <chr> & <chr> & <dbl>\\\\\n",
       "\\hline\n",
       "\t High     & STG\\_mean & 0.4100000\\\\\n",
       "\t High     & SCG\\_mean & 0.4216875\\\\\n",
       "\t High     & STR\\_mean & 0.4216875\\\\\n",
       "\t Low      & STG\\_mean & 0.3170806\\\\\n",
       "\t Low      & SCG\\_mean & 0.3367097\\\\\n",
       "\t Low      & STR\\_mean & 0.3367097\\\\\n",
       "\t Middle   & STG\\_mean & 0.3883529\\\\\n",
       "\t Middle   & SCG\\_mean & 0.3709265\\\\\n",
       "\t Middle   & STR\\_mean & 0.3709265\\\\\n",
       "\t very\\_low & STG\\_mean & 0.3337857\\\\\n",
       "\t very\\_low & SCG\\_mean & 0.2164286\\\\\n",
       "\t very\\_low & STR\\_mean & 0.2164286\\\\\n",
       "\\end{tabular}\n"
      ],
      "text/markdown": [
       "\n",
       "A tibble: 12 × 3\n",
       "\n",
       "| UNS &lt;chr&gt; | study_habit &lt;chr&gt; | mean &lt;dbl&gt; |\n",
       "|---|---|---|\n",
       "| High     | STG_mean | 0.4100000 |\n",
       "| High     | SCG_mean | 0.4216875 |\n",
       "| High     | STR_mean | 0.4216875 |\n",
       "| Low      | STG_mean | 0.3170806 |\n",
       "| Low      | SCG_mean | 0.3367097 |\n",
       "| Low      | STR_mean | 0.3367097 |\n",
       "| Middle   | STG_mean | 0.3883529 |\n",
       "| Middle   | SCG_mean | 0.3709265 |\n",
       "| Middle   | STR_mean | 0.3709265 |\n",
       "| very_low | STG_mean | 0.3337857 |\n",
       "| very_low | SCG_mean | 0.2164286 |\n",
       "| very_low | STR_mean | 0.2164286 |\n",
       "\n"
      ],
      "text/plain": [
       "   UNS      study_habit mean     \n",
       "1  High     STG_mean    0.4100000\n",
       "2  High     SCG_mean    0.4216875\n",
       "3  High     STR_mean    0.4216875\n",
       "4  Low      STG_mean    0.3170806\n",
       "5  Low      SCG_mean    0.3367097\n",
       "6  Low      STR_mean    0.3367097\n",
       "7  Middle   STG_mean    0.3883529\n",
       "8  Middle   SCG_mean    0.3709265\n",
       "9  Middle   STR_mean    0.3709265\n",
       "10 very_low STG_mean    0.3337857\n",
       "11 very_low SCG_mean    0.2164286\n",
       "12 very_low STR_mean    0.2164286"
      ]
     },
     "metadata": {},
     "output_type": "display_data"
    },
    {
     "data": {
      "image/png": "[encoded data removed]",
      "text/plain": [
       "plot without title"
      ]
     },
     "metadata": {
      "image/png": {
       "height": 420,
       "width": 420
      }
     },
     "output_type": "display_data"
    }
   ],
   "source": [
    "data_mean <- data_summary_train |>\n",
    "    select(-count, -percentage, -LPR_mean, -PEG_mean) |>\n",
    "    pivot_longer(cols = c(STG_mean, SCG_mean, STR_mean),\n",
    "                 names_to = \"study_habit\",\n",
    "                 values_to = \"mean\")\n",
    "data_mean\n",
    "\n",
    "study_habits_mean_vs_knowledge_plot <- ggplot(data_mean, aes(x = UNS, y = mean, fill = study_habit)) +\n",
    "    geom_bar(stat = \"identity\", position = \"dodge\") +\n",
    "    labs(x = \"Knowledge Level of User\", y = \"Study Habits\", fill = \"Study Habit\") + theme(text = element_text(size = 20))\n",
    "\n",
    "study_habits_mean_vs_knowledge_plot"
   ]
  },
  {
   "cell_type": "markdown",
   "id": "a9e7c188-6c45-480f-8fe0-68493c924f55",
   "metadata": {},
   "source": [
    "# Methods"
   ]
  },
  {
   "cell_type": "markdown",
   "id": "7820ca8e-e80e-47a1-97b6-3d33603583e5",
   "metadata": {},
   "source": [
    "We will conduct our data analysis by investigating the following columns: STG, SCG, and STR, these are all about study habits and their meanings were discussed above. We will be trying to predict the UNS.\n",
    "\n",
    "We will use the classification by the k-nearest neighbhor method, evaluating and the tuning the classifier."
   ]
  },
  {
   "cell_type": "markdown",
   "id": "0565c84d-4b62-4e07-a9fc-d2cb4ed66003",
   "metadata": {},
   "source": [
    "# Expected outcomes and significance"
   ]
  },
  {
   "cell_type": "markdown",
   "id": "e9c8b38a-b6bb-4a4c-b822-03c4fb682255",
   "metadata": {},
   "source": [
    "### What do you expect to find?"
   ]
  },
  {
   "cell_type": "markdown",
   "id": "df5396c5-68c4-4729-b87c-db15404df98e",
   "metadata": {
    "tags": []
   },
   "source": [
    "From the above plot and summary analysis we can loosely infer that knowledge level of the user is highly dependent on time alloted for study, repetitions of the material and study time for the particular topic. We expect that user with study habits on the higher scale might fall on high knowledge level, while students with more time alloted towards total study than respective SCG and STR might have low levels of knowledge."
   ]
  },
  {
   "cell_type": "markdown",
   "id": "08eb4854-9c8e-4442-9b2a-4879ecae5eb3",
   "metadata": {},
   "source": [
    "### What impact could such findings have?"
   ]
  },
  {
   "cell_type": "markdown",
   "id": "488c0a7e-3efe-448d-a733-a93dcacfd50c",
   "metadata": {},
   "source": [
    "The investigation of the degree of study time allotted, study time allotted for a specific topic, and study time for users with the goal of predicting user knowledge level can have several consequences. Here are some examples of potential consequences:\n",
    "\n",
    "Improved Learning Outcomes: When students spend an appropriate amount of time studying, they are more likely to have a better understanding of the material and perform better on exams. Additionally, allocating more time to specific topics can help students develop a deeper understanding of those subjects.\n",
    "\n",
    "Customized Learning: By analyzing user study patterns and predicting knowledge levels, educators can customize learning experiences to better suit the needs of individual students. This can help optimize learning outcomes for each student.\n",
    "\n",
    "Time Management: Understanding how much time students typically need to study and predicting their knowledge levels can help educators guide students in managing their time more effectively. This can help students prioritize their study time and achieve better results.\n",
    "\n",
    "Resource Allocation: Institutions can use data about study time patterns to allocate resources more effectively. For example, if a significant number of students are struggling with a particular subject, the institution may decide to allocate more resources to that area.\n",
    "\n",
    "Curriculum Improvement: Data about study time patterns and knowledge levels can be used to identify areas of the curriculum that need improvement. This can help educators refine the curriculum and create more effective learning experiences for students.\n",
    "\n",
    "Overall, studying the degree of study time allotted, study time allotted for a particular topic, and study time for users with a goal to predict user knowledge level can have several positive impacts on learning outcomes, time management, resource allocation, and curriculum improvement."
   ]
  },
  {
   "cell_type": "markdown",
   "id": "4b6d4b2b-d0e5-4681-8192-f74d71cdcad9",
   "metadata": {},
   "source": [
    "<h3>What future questions could this lead to? </h3>"
   ]
  },
  {
   "cell_type": "markdown",
   "id": "fab5ed41-776c-487d-a9a0-a209e2a57afa",
   "metadata": {},
   "source": [
    "Studying the degree of study time allotted, study time allotted for a particular topic, and study time for users with a goal to predict user knowledge level could lead to several interesting and important questions for future research. Here are some examples:\n",
    "\n",
    "How does the use of technology (e.g., online learning platforms, educational apps) affect study time patterns and knowledge levels?\n",
    "\n",
    "What factors influence the amount of time students spend studying? For example, does socioeconomic status, prior knowledge, or motivation level impact study time?\n",
    "\n",
    "How can educators effectively use data about study time patterns and knowledge levels to personalize learning experiences for students?\n",
    "\n",
    "What is the optimal amount of time that should be allotted for each subject to maximize learning outcomes?\n",
    "\n",
    "How can institutions use data about study time patterns and knowledge levels to improve teaching practices and curriculum design?\n",
    "\n",
    "What are the long-term effects of study time patterns on students' academic and career success?"
   ]
  }
 ],
 "metadata": {
  "kernelspec": {
   "display_name": "R",
   "language": "R",
   "name": "ir"
  },
  "language_info": {
   "codemirror_mode": "r",
   "file_extension": ".r",
   "mimetype": "text/x-r-source",
   "name": "R",
   "pygments_lexer": "r",
   "version": "4.1.3"
  }
 },
 "nbformat": 4,
 "nbformat_minor": 5
}
