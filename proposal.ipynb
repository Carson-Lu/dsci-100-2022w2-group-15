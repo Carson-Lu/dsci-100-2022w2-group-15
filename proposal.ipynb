{
 "cells": [
  {
   "cell_type": "markdown",
   "id": "b6614a25-6ccd-4cc4-a009-215322b37e00",
   "metadata": {},
   "source": [
    "# Title (We need to rename this, is it supposed to be what we are investigating or just called project proposal?)"
   ]
  },
  {
   "cell_type": "markdown",
   "id": "e7111395-ed98-4910-bb3b-55944f96f2c9",
   "metadata": {},
   "source": [
    "# Introduction"
   ]
  },
  {
   "cell_type": "markdown",
   "id": "a6951cac-16ad-4656-b1a4-37a24ebafcb9",
   "metadata": {},
   "source": [
    "Electrical DC Machines are essential components of many electrical systems, and students learning about this subject must have a good understanding of it. In this project, we aim to analyze the student's knowledge status about the subject of Electrical DC Machines. The dataset used in this project is obtained from a Ph.D. thesis."
   ]
  },
  {
   "cell_type": "markdown",
   "id": "59369fe0-5b36-4459-8516-06b83bfbe79a",
   "metadata": {},
   "source": []
  },
  {
   "cell_type": "markdown",
   "id": "14d77a16-4da3-4c03-b8d2-f27fc83b3efe",
   "metadata": {},
   "source": []
  },
  {
   "cell_type": "markdown",
   "id": "3a2b6242-a2cc-4f1c-a939-cf880fe52376",
   "metadata": {},
   "source": [
    "# Preliminary exploratory data analysis"
   ]
  },
  {
   "cell_type": "code",
   "execution_count": 6,
   "id": "5e480403-5bec-4cbc-9341-1abd1083218d",
   "metadata": {},
   "outputs": [],
   "source": [
    "library(tidyverse)\n",
    "library(tidymodels)\n",
    "library(readxl)\n",
    "library(DBI)"
   ]
  },
  {
   "cell_type": "code",
   "execution_count": 13,
   "id": "5c7ee6c2-ee1f-46ec-b502-42be636fbb2c",
   "metadata": {},
   "outputs": [
    {
     "ename": "ERROR",
     "evalue": "Error: `path` does not exist: ‘https://archive.ics.uci.edu/ml/machine-learning-databases/00257/Data_User_Modeling_Dataset_Hamdi%20Tolga%20KAHRAMAN.xls’\n",
     "output_type": "error",
     "traceback": [
      "Error: `path` does not exist: ‘https://archive.ics.uci.edu/ml/machine-learning-databases/00257/Data_User_Modeling_Dataset_Hamdi%20Tolga%20KAHRAMAN.xls’\nTraceback:\n",
      "1. read_excel(\"https://archive.ics.uci.edu/ml/machine-learning-databases/00257/Data_User_Modeling_Dataset_Hamdi%20Tolga%20KAHRAMAN.xls\")",
      "2. check_file(path)",
      "3. stop(\"`path` does not exist: \", sQuote(path), call. = FALSE)"
     ]
    }
   ],
   "source": [
    "data <- read_excel(\"https://archive.ics.uci.edu/ml/machine-learning-databases/00257/Data_User_Modeling_Dataset_Hamdi%20Tolga%20KAHRAMAN.xls\")"
   ]
  },
  {
   "cell_type": "markdown",
   "id": "2a21f91d-b28a-457e-a564-d8cd2dfa5947",
   "metadata": {},
   "source": []
  },
  {
   "cell_type": "markdown",
   "id": "46c79e70-92c6-4e38-8bc4-f7f6b108b5d0",
   "metadata": {},
   "source": []
  },
  {
   "cell_type": "markdown",
   "id": "6a2b3b1b-9ebb-417c-ab4c-57efd347d2e5",
   "metadata": {},
   "source": []
  },
  {
   "cell_type": "markdown",
   "id": "a9e7c188-6c45-480f-8fe0-68493c924f55",
   "metadata": {},
   "source": [
    "# Methods"
   ]
  },
  {
   "cell_type": "markdown",
   "id": "7820ca8e-e80e-47a1-97b6-3d33603583e5",
   "metadata": {},
   "source": []
  },
  {
   "cell_type": "markdown",
   "id": "768b4572-2607-4cc7-bc77-01e12d52dc4e",
   "metadata": {},
   "source": []
  },
  {
   "cell_type": "markdown",
   "id": "0565c84d-4b62-4e07-a9fc-d2cb4ed66003",
   "metadata": {},
   "source": [
    "# Expected outcomes and significance"
   ]
  },
  {
   "cell_type": "markdown",
   "id": "e9c8b38a-b6bb-4a4c-b822-03c4fb682255",
   "metadata": {},
   "source": [
    "### What do you expect to find?"
   ]
  },
  {
   "cell_type": "markdown",
   "id": "df5396c5-68c4-4729-b87c-db15404df98e",
   "metadata": {
    "tags": []
   },
   "source": []
  },
  {
   "cell_type": "markdown",
   "id": "08eb4854-9c8e-4442-9b2a-4879ecae5eb3",
   "metadata": {},
   "source": [
    "### What impact could such findings have?"
   ]
  },
  {
   "cell_type": "markdown",
   "id": "488c0a7e-3efe-448d-a733-a93dcacfd50c",
   "metadata": {},
   "source": []
  },
  {
   "cell_type": "markdown",
   "id": "4b6d4b2b-d0e5-4681-8192-f74d71cdcad9",
   "metadata": {},
   "source": [
    "### What future questions could this lead to?"
   ]
  },
  {
   "cell_type": "markdown",
   "id": "fab5ed41-776c-487d-a9a0-a209e2a57afa",
   "metadata": {},
   "source": []
  }
 ],
 "metadata": {
  "kernelspec": {
   "display_name": "R",
   "language": "R",
   "name": "ir"
  },
  "language_info": {
   "codemirror_mode": "r",
   "file_extension": ".r",
   "mimetype": "text/x-r-source",
   "name": "R",
   "pygments_lexer": "r",
   "version": "4.1.3"
  }
 },
 "nbformat": 4,
 "nbformat_minor": 5
}
